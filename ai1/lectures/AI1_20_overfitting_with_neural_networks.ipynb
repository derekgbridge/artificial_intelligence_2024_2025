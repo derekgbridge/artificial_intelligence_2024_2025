{
 "cells": [
  {
   "cell_type": "markdown",
   "metadata": {},
   "source": [
    "<h1>CS4618: Artificial Intelligence I</h1>\n",
    "<h1>Overfitting with Neural Networks</h1>\n",
    "<h2>\n",
    "    Derek Bridge<br>\n",
    "    School of Computer Science and Information Technology<br>\n",
    "    University College Cork\n",
    "</h2>"
   ]
  },
  {
   "cell_type": "markdown",
   "metadata": {},
   "source": [
    "<h1>Initialization</h1>\n",
    "$\\newcommand{\\Set}[1]{\\{#1\\}}$ \n",
    "$\\newcommand{\\Tuple}[1]{\\langle#1\\rangle}$ \n",
    "$\\newcommand{\\v}[1]{\\pmb{#1}}$ \n",
    "$\\newcommand{\\cv}[1]{\\begin{bmatrix}#1\\end{bmatrix}}$ \n",
    "$\\newcommand{\\rv}[1]{[#1]}$ \n",
    "$\\DeclareMathOperator{\\argmax}{arg\\,max}$ \n",
    "$\\DeclareMathOperator{\\argmin}{arg\\,min}$ \n",
    "$\\DeclareMathOperator{\\dist}{dist}$\n",
    "$\\DeclareMathOperator{\\abs}{abs}$"
   ]
  },
  {
   "cell_type": "code",
   "execution_count": 1,
   "metadata": {},
   "outputs": [],
   "source": [
    "%load_ext autoreload\n",
    "%autoreload 2\n",
    "%matplotlib inline"
   ]
  },
  {
   "cell_type": "code",
   "execution_count": 2,
   "metadata": {},
   "outputs": [],
   "source": [
    "import pandas as pd\n",
    "import matplotlib.pyplot as plt\n",
    "\n",
    "from tensorflow.keras.datasets import mnist\n",
    "\n",
    "from tensorflow.keras import Model\n",
    "from tensorflow.keras import Input\n",
    "from tensorflow.keras.layers import Rescaling\n",
    "from tensorflow.keras.layers import Dense\n",
    "from tensorflow.keras.layers import Dropout\n",
    "\n",
    "from tensorflow.keras.optimizers import RMSprop\n",
    "\n",
    "from tensorflow.keras.regularizers import l1\n",
    "from tensorflow.keras.regularizers import l2\n",
    "\n",
    "from tensorflow.keras.callbacks import EarlyStopping"
   ]
  },
  {
   "cell_type": "code",
   "execution_count": 3,
   "metadata": {},
   "outputs": [],
   "source": [
    "# MNIST dataset\n",
    "\n",
    "# Load MNIST into four Numpy arrays\n",
    "(mnist_x_train, mnist_y_train), (mnist_x_test, mnist_y_test) = mnist.load_data()\n",
    "mnist_x_train = mnist_x_train.reshape((60000, 28 * 28))\n",
    "mnist_x_test = mnist_x_test.reshape((10000, 28 * 28))"
   ]
  },
  {
   "cell_type": "markdown",
   "metadata": {},
   "source": [
    "<h1>Acknowledgement</h1>\n",
    "<ul>\n",
    "    <li>The analogy between dropout and a company whose employees are told to toss a coin to\n",
    "        decide whether to go to work each morning comes from\n",
    "        A. G&eacute;ron: <i>Hands-On Machine Learning with Scikit-Learn, Keras &amp;\n",
    "        TensorFlow (2nd edn)</i>, O'Reilly, 2019\n",
    "    </li>\n",
    "</ul>"
   ]
  },
  {
   "cell_type": "markdown",
   "metadata": {},
   "source": [
    "<h1>Introduction</h1>\n",
    "<ul>\n",
    "    <li>One of the central problems of deep learning is overfitting.</li>\n",
    "    <li>Reminder. If your model overfits, your main options are:\n",
    "        <ul>\n",
    "            <li>gather more training examples;</li>\n",
    "            <li>remove noise in the training examples;</li>\n",
    "            <li>change model: move to a less complex model;</li>\n",
    "            <li>simplify by reducing the number of features;</li>\n",
    "            <li>stick with your existing model but\n",
    "                add constraints (if you can) to reduce its complexity.\n",
    "            </li>\n",
    "        </ul>\n",
    "    </li>\n",
    "    <li>Here we'll look at\n",
    "        <ul>\n",
    "            <li>reducing the network's size &mdash; an example of moving to a less complex model;</li>\n",
    "            <li>weight regularization &mdash; an example of adding constraints to reduce complexity;</li>\n",
    "            <li>dropout &mdash; also an example of adding constraints to reduce complexity; and</li>\n",
    "            <li>early stopping &mdash; a somewhat different way of avoiding overfitting.</li>\n",
    "        </ul>\n",
    "    </li>\n",
    "</ul>"
   ]
  },
  {
   "cell_type": "code",
   "execution_count": 4,
   "metadata": {},
   "outputs": [],
   "source": [
    "# A network that overfits (a little!)\n",
    "\n",
    "inputs = Input(shape=(28 * 28,))\n",
    "x = Rescaling(scale=1./255)(inputs)\n",
    "x = Dense(1024, activation=\"relu\")(x)\n",
    "x = Dense(1024, activation=\"relu\")(x)\n",
    "outputs = Dense(10, activation=\"softmax\")(x)\n",
    "overfitting_model = Model(inputs, outputs)\n",
    "overfitting_model.compile(optimizer=RMSprop(learning_rate=0.0001), loss=\"sparse_categorical_crossentropy\")"
   ]
  },
  {
   "cell_type": "code",
   "execution_count": 5,
   "metadata": {},
   "outputs": [
    {
     "data": {
      "text/plain": [
       "(0.0005224472843110561, 0.09220009297132492)"
      ]
     },
     "execution_count": 5,
     "metadata": {},
     "output_type": "execute_result"
    }
   ],
   "source": [
    "history = overfitting_model.fit(mnist_x_train, mnist_y_train, epochs=20, batch_size=32, \n",
    "                                verbose=0, validation_split=0.20)\n",
    "history.history[\"loss\"][-1], history.history[\"val_loss\"][-1]"
   ]
  },
  {
   "cell_type": "code",
   "execution_count": 6,
   "metadata": {},
   "outputs": [
    {
     "data": {
      "text/plain": [
       "<Axes: >"
      ]
     },
     "execution_count": 6,
     "metadata": {},
     "output_type": "execute_result"
    },
    {
     "data": {
      "image/png": "[encoded data removed]",
      "text/plain": [
       "<Figure size 640x480 with 1 Axes>"
      ]
     },
     "metadata": {},
     "output_type": "display_data"
    }
   ],
   "source": [
    "# Training curve\n",
    "pd.DataFrame(history.history).plot()"
   ]
  },
  {
   "cell_type": "markdown",
   "metadata": {},
   "source": [
    "<h1>Reducing Network Size</h1>\n",
    "<ul>\n",
    "    <li>We can make the model (neural network) less complex by reducing the number of parameters.</li>\n",
    "    <li>Obviously enough, this is achieved by:\n",
    "        <ul>\n",
    "            <li>reducing the number of hidden layers, and/or</li>\n",
    "            <li>reducing the number of neurons within the hidden layers.</li>\n",
    "        </ul>\n",
    "    </li>\n",
    "</ul>"
   ]
  },
  {
   "cell_type": "markdown",
   "metadata": {},
   "source": [
    "<h2>Example of reducing network size</h2>"
   ]
  },
  {
   "cell_type": "code",
   "execution_count": 7,
   "metadata": {},
   "outputs": [],
   "source": [
    "# Smaller network\n",
    "\n",
    "inputs = Input(shape=(28 * 28,))\n",
    "x = Rescaling(scale=1./255)(inputs)\n",
    "x = Dense(256, activation=\"relu\")(x)\n",
    "outputs = Dense(10, activation=\"softmax\")(x)\n",
    "smaller_model = Model(inputs, outputs)\n",
    "smaller_model.compile(optimizer=RMSprop(learning_rate=0.0001), loss=\"sparse_categorical_crossentropy\")"
   ]
  },
  {
   "cell_type": "code",
   "execution_count": 8,
   "metadata": {},
   "outputs": [
    {
     "data": {
      "text/plain": [
       "(0.05589862912893295, 0.09554201364517212)"
      ]
     },
     "execution_count": 8,
     "metadata": {},
     "output_type": "execute_result"
    }
   ],
   "source": [
    "history = smaller_model.fit(mnist_x_train, mnist_y_train, epochs=20, batch_size=32, verbose=0, validation_split=0.2)\n",
    "history.history[\"loss\"][-1], history.history[\"val_loss\"][-1]"
   ]
  },
  {
   "cell_type": "markdown",
   "metadata": {},
   "source": [
    "<h1>Weight Regularization</h1>\n",
    "<ul>\n",
    "    <li>For linear regression, we used <b>regularization</b> to ensure that the coefficients $\\v{\\beta}$ took only\n",
    "        small values by penalizing large values in the loss function.\n",
    "        <ul>\n",
    "            <li>Lasso: we penalized by the $\\cal{l}_1$-norm (the sum of their absolute values).\n",
    "            </li>\n",
    "            <li>Ridge: we penalized by the $\\cal{l}_2$-norm (the sum of their squares).\n",
    "            </li>\n",
    "            <li>A hyperparameter $\\lambda$, called the 'regularization parameter' controlled the balance \n",
    "                between fitting the data versus shrinking the parameters.\n",
    "            </li>\n",
    "        </ul>\n",
    "    </li>\n",
    "    <li>Weight Regularization in neural networks is the same idea, but applied to the weights \n",
    "        in the layers of a network.\n",
    "    </li>\n",
    "</ul>"
   ]
  },
  {
   "cell_type": "code",
   "execution_count": 9,
   "metadata": {},
   "outputs": [],
   "source": [
    "# Regularized network\n",
    "\n",
    "inputs = Input(shape=(28 * 28,))\n",
    "x = Rescaling(scale=1./255)(inputs)\n",
    "x = Dense(1024, activation=\"relu\", kernel_regularizer=l2(0.0001))(x)\n",
    "x = Dense(1024, activation=\"relu\", kernel_regularizer=l2(0.0001))(x)\n",
    "outputs = Dense(10, activation=\"softmax\", kernel_regularizer=l2(0.0001))(x)\n",
    "regularized_model = Model(inputs, outputs)\n",
    "regularized_model.compile(optimizer=RMSprop(learning_rate=0.0001), loss=\"sparse_categorical_crossentropy\")"
   ]
  },
  {
   "cell_type": "code",
   "execution_count": 10,
   "metadata": {},
   "outputs": [
    {
     "data": {
      "text/plain": [
       "(0.05959427356719971, 0.11875767260789871)"
      ]
     },
     "execution_count": 10,
     "metadata": {},
     "output_type": "execute_result"
    }
   ],
   "source": [
    "history = regularized_model.fit(mnist_x_train, mnist_y_train, epochs=20, batch_size=32, verbose=0, validation_split=0.2)\n",
    "history.history[\"loss\"][-1], history.history[\"val_loss\"][-1]"
   ]
  },
  {
   "cell_type": "markdown",
   "metadata": {},
   "source": [
    "<ul>\n",
    "    <li>Weight regularization can work well when the network is small but has little effect on larger networks.</li>\n",
    "    <li>For larger networks, a better option can be <i>dropout</i>.</li>\n",
    "</ul>"
   ]
  },
  {
   "cell_type": "markdown",
   "metadata": {},
   "source": [
    "<h1>Dropout</h1>\n",
    "<ul>\n",
    "    <li>Imagine we have a layer that uses <b>dropout</b> with <b>dropout rate</b> $p$, e.g. $p=0.5$.</li>\n",
    "    <li>Then, in a given step of the backprop algorithm, each neuron in the layer has\n",
    "        probability $p$ of being ignored &mdash; treated as if it were not there.\n",
    "        <figure>\n",
    "            <img src=\"images/dropout.png\" />\n",
    "        </figure>\n",
    "    </li>\n",
    "</ul>"
   ]
  },
  {
   "cell_type": "markdown",
   "metadata": {},
   "source": [
    "<h2>One way of doing dropout</h2>\n",
    "<ul>\n",
    "    <li>Suppose the dropout rate is $p$.\n",
    "    <li>Training. For any given mini-batch:\n",
    "        <ul>\n",
    "            <li>In the forward propagation, \n",
    "                <ul>\n",
    "                    <li>decide which neurons will be dropped (chosen with probability $p$);</li>\n",
    "                    <li>set the activations of the dropped neurons to zero;</li>\n",
    "                    <li>multiply the activations of the kept neurons by $1 / (1 - p)$.</li>\n",
    "                </ul>\n",
    "            </li>\n",
    "            <li>In the backpropagation, ignore the dropped out neurons.</li>\n",
    "        </ul>\n",
    "        Note that different neurons will get dropped for each mini-batch.\n",
    "    </li>\n",
    "    <li>Testing. No change.</li>\n",
    "    <li>But why did we multiply activations by $1/ (1 - p)$?\n",
    "        <ul>\n",
    "            <li>In testing, for $p=0.5$ a neuron in the next layer will receive input from on average\n",
    "                twice as many neurons as it did in training.\n",
    "            </li>\n",
    "            <li>The multiplication by $1/(1 - p)$ compensates for this.\n",
    "            </li>\n",
    "        </ul>\n",
    "    </li>\n",
    "</ul>"
   ]
  },
  {
   "cell_type": "markdown",
   "metadata": {},
   "source": [
    "<h2>Why does dropout reduce overfitting?</h2>\n",
    "<ul>\n",
    "    <li>Consider a company whose employees were told to toss a coin every monring to decide\n",
    "        whether to go to work or not.\n",
    "        <ul>\n",
    "            <li>The organization would need to become more resilient. It could not rely on any\n",
    "                one employee to perform critical tasks: the expertise would need to be spread\n",
    "                across many employees. They must become more like generalists, less like specialists.\n",
    "            </li>\n",
    "        </ul>\n",
    "        Similarly, in dropout layers, neurons learn more robust features.     \n",
    "    </li>\n",
    "    <li>Another way to think about it.\n",
    "        <ul>\n",
    "            <li>Since a neuron can be present or absent, it's like training on a different neural\n",
    "                network at each step.\n",
    "            </li>\n",
    "            <li>The final result is  a bit like an ensemble of these many different virtual\n",
    "                neural networks.\n",
    "            </li>\n",
    "        </ul>\n",
    "    </li>\n",
    "    <li>However, it typically increases the number of epochs needed for convergence\n",
    "        (roughly double when $p=0.5$).\n",
    "    </li>\n",
    "</ul>"
   ]
  },
  {
   "cell_type": "markdown",
   "metadata": {},
   "source": [
    "<h2>Dropout in Keras</h2>"
   ]
  },
  {
   "cell_type": "code",
   "execution_count": 11,
   "metadata": {},
   "outputs": [],
   "source": [
    "# Network with dropout\n",
    "\n",
    "inputs = Input(shape=(28 * 28,))\n",
    "x = Rescaling(scale=1./255)(inputs)\n",
    "x = Dense(1024, activation=\"relu\")(x)\n",
    "x = Dropout(0.5)(x)\n",
    "x = Dense(1024, activation=\"relu\")(x)\n",
    "x = Dropout(0.5)(x)\n",
    "outputs = Dense(10, activation=\"softmax\")(x)\n",
    "model_with_dropout = Model(inputs, outputs)\n",
    "model_with_dropout.compile(optimizer=RMSprop(learning_rate=0.0001), loss=\"sparse_categorical_crossentropy\")"
   ]
  },
  {
   "cell_type": "code",
   "execution_count": 12,
   "metadata": {},
   "outputs": [
    {
     "data": {
      "text/plain": [
       "(0.04439428076148033, 0.08539890497922897)"
      ]
     },
     "execution_count": 12,
     "metadata": {},
     "output_type": "execute_result"
    }
   ],
   "source": [
    "history = model_with_dropout.fit(mnist_x_train, mnist_y_train, epochs=20, batch_size=32, verbose=0, validation_split=0.2)\n",
    "history.history[\"loss\"][-1], history.history[\"val_loss\"][-1]"
   ]
  },
  {
   "cell_type": "markdown",
   "metadata": {},
   "source": [
    "<h1>Early Stopping</h1>\n",
    "<ul>\n",
    "    <li>We know that a sign of overfitting is that validation error stops getting lower and starts\n",
    "        getting larger.\n",
    "    </li>\n",
    "    <li>We can exploit this <em>during</em> Gradient Descent as another way of avoiding overfitting,\n",
    "        known as <b>early stopping</b>:\n",
    "        <ul>\n",
    "            <li>During Gradient Descent, monitor validation error (or loss).</li>\n",
    "            <li>Interrupt training when the validation error has stopped improving for a certain number\n",
    "                of epochs.\n",
    "            </li>\n",
    "        </ul>\n",
    "    </li>\n",
    "</ul>"
   ]
  },
  {
   "cell_type": "markdown",
   "metadata": {},
   "source": [
    "<h2>Early stopping in Keras</h2>\n",
    "<ul>\n",
    "    <li>In Keras, this is done using the <code>EarlyStopping</code> callback.</li>\n",
    "    <li>The <code>patience</code> argument allows you to specify how many epochs must pass with\n",
    "        no improvement relative to the current best.\n",
    "    </li>\n",
    "    <li><code>restore_best_weights=True</code> restores the weights and biases from when validation\n",
    "        error was at its lowest.\n",
    "    </li>\n",
    "</ul>"
   ]
  },
  {
   "cell_type": "code",
   "execution_count": 13,
   "metadata": {},
   "outputs": [],
   "source": [
    "history = overfitting_model.fit(mnist_x_train, mnist_y_train, epochs=20, batch_size=32, \n",
    "                                verbose=0, validation_split=0.2, \n",
    "                                callbacks=[EarlyStopping(monitor=\"val_loss\", patience=2, restore_best_weights=True)])"
   ]
  },
  {
   "cell_type": "code",
   "execution_count": 14,
   "metadata": {},
   "outputs": [
    {
     "data": {
      "text/plain": [
       "[(0.00039657767047174275, 0.09412235766649246),\n",
       " (0.000314251083182171, 0.09348127990961075),\n",
       " (0.00026782802888192236, 0.09413287043571472),\n",
       " (0.0002055642835330218, 0.0952644944190979)]"
      ]
     },
     "execution_count": 14,
     "metadata": {},
     "output_type": "execute_result"
    }
   ],
   "source": [
    "[(l, v) for l, v in zip(history.history[\"loss\"], history.history[\"val_loss\"])]"
   ]
  },
  {
   "cell_type": "markdown",
   "metadata": {},
   "source": [
    "<ul>\n",
    "    <li>An advantage of early stopping is that we can be less concerned about choosing the number of\n",
    "        epochs: just use something very large.\n",
    "    </li>\n",
    "    <li>But, now we have the problem of deciding on the patience. If run-time is your problem, then\n",
    "        you can choose a low value. Otherwise, you should choose a low value for 'easier' problems!\n",
    "    </li>\n",
    "</ul>"
   ]
  },
  {
   "cell_type": "markdown",
   "metadata": {
    "collapsed": true,
    "jupyter": {
     "outputs_hidden": true
    }
   },
   "source": [
    "<h1>Conclusions</h1>\n",
    "<ul>\n",
    "    <li>Overfitting is a major problem but has many solutions.</li>\n",
    "    <li>There are lots of solutions in additon to the ones above:\n",
    "        <ul>\n",
    "            <li>Remember Batch Normalization has a regularizing effect.</li>\n",
    "            <li>There are other techniques that we won't cover (e.g. clipping).</li>\n",
    "            <li>There are the things we've mentioned in an earlier lecture, especially getting more data!</li>\n",
    "        </ul>\n",
    "    </li>\n",
    "</ul>"
   ]
  },
  {
   "cell_type": "markdown",
   "metadata": {},
   "source": [
    "<h1>Appendix</h1>\n",
    "<h2>Over-parameterisation</h2>\n",
    "<ul>\n",
    "    <li>Our discussion so far of overfitting in neural networks follows the conventional viewpoint: on a small network, validation error is high (underfitting); as we increase complexity (e.g. more layers), then validatiion error decreases but, after a certain point, it starts to rise again (overfitting).</li>\n",
    "    <li>In fact, with deep learning, we are finding something counter-intuitive. If we keep increasing the complexity, then validation error decreases again, falling to a new minimum. This is called <b>double descent</b>. (See <a href=\"https://mlu-explain.github.io/double-descent/\">this visualisation</a>, if you're interested.)</li>\n",
    "    <li>We are finding this happens with over-parameterized models &mdash; ones that are excessively complex. Neural networks with many neurons are the obvios examples of this. But we can even have linear models that are overparameterized.\n",
    "    <li>When the model is over-parameterised, it fits the training data (near) perfectly (even the noise). We would expect an overparameterized model to have poor performance on unseen data (overfitting).  But, we find that the model seems to generalise well to unseen data. What's going on?</li>\n",
    "    <li>We don't really know. But the current theory, in high-level terms, is that the over-parameterised model makes smoother interpolations between the training examples, and this is what gives the better validation error. (See <a href=\"https://mlu-explain.github.io/double-descent2/\">this explanation</a>, if you're interested.)</li>\n",
    "    <li>It is also fairly easy to avoid double descent: using the regularization or dropout techniques described in the next lecture.</li>\n",
    "</ul>"
   ]
  },
  {
   "cell_type": "code",
   "execution_count": null,
   "metadata": {},
   "outputs": [],
   "source": []
  }
 ],
 "metadata": {
  "kernelspec": {
   "display_name": "Python 3 (ipykernel)",
   "language": "python",
   "name": "python3"
  },
  "language_info": {
   "codemirror_mode": {
    "name": "ipython",
    "version": 3
   },
   "file_extension": ".py",
   "mimetype": "text/x-python",
   "name": "python",
   "nbconvert_exporter": "python",
   "pygments_lexer": "ipython3",
   "version": "3.12.4"
  }
 },
 "nbformat": 4,
 "nbformat_minor": 4
}
