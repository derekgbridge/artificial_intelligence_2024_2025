{
 "cells": [
  {
   "cell_type": "markdown",
   "metadata": {
    "slideshow": {
     "slide_type": "slide"
    }
   },
   "source": [
    "<h1>CS4618: Artificial Intelligence I</h1>\n",
    "<h1>Vectors and Matrices</h1>\n",
    "<h2>\n",
    "    Derek Bridge<br>\n",
    "    School of Computer Science and Information Technology<br>\n",
    "    University College Cork\n",
    "</h2>"
   ]
  },
  {
   "cell_type": "markdown",
   "metadata": {
    "slideshow": {
     "slide_type": "skip"
    }
   },
   "source": [
    "<h1>Initialization</h1>\n",
    "$\\newcommand{\\Set}[1]{\\{#1\\}}$ \n",
    "$\\newcommand{\\Tuple}[1]{\\langle#1\\rangle}$ \n",
    "$\\newcommand{\\v}[1]{\\pmb{#1}}$ \n",
    "$\\newcommand{\\cv}[1]{\\begin{bmatrix}#1\\end{bmatrix}}$ \n",
    "$\\newcommand{\\rv}[1]{[#1]}$ \n",
    "$\\DeclareMathOperator{\\argmax}{arg\\,max}$ \n",
    "$\\DeclareMathOperator{\\argmin}{arg\\,min}$ \n",
    "$\\DeclareMathOperator{\\dist}{dist}$\n",
    "$\\DeclareMathOperator{\\abs}{abs}$"
   ]
  },
  {
   "cell_type": "code",
   "execution_count": 11,
   "metadata": {
    "slideshow": {
     "slide_type": "skip"
    }
   },
   "outputs": [
    {
     "name": "stdout",
     "output_type": "stream",
     "text": [
      "The autoreload extension is already loaded. To reload it, use:\n",
      "  %reload_ext autoreload\n"
     ]
    }
   ],
   "source": [
    "%load_ext autoreload\n",
    "%autoreload 2\n",
    "%matplotlib inline"
   ]
  },
  {
   "cell_type": "code",
   "execution_count": 12,
   "metadata": {
    "slideshow": {
     "slide_type": "skip"
    }
   },
   "outputs": [],
   "source": [
    "import numpy as np\n",
    "\n",
    "import numpy.linalg as npla\n",
    "\n",
    "from math import sqrt"
   ]
  },
  {
   "cell_type": "markdown",
   "metadata": {},
   "source": [
    "<h1>Doing Things with Data</h1>\n",
    "<ul>\n",
    "    <li>All of the following are about doing things with data:\n",
    "        <ul>\n",
    "            <li>data science, data analytics, machine learning, statistics, statistical machine learning, statistical inference,\n",
    "            data mining, knowledge discovery, pattern recognition, &hellip;\n",
    "            </li>\n",
    "        </ul>\n",
    "    </li>\n",
    "    <li>These fields have been given impetus by:\n",
    "        <ul>\n",
    "            <li>availability of lots of data (sometimes 'big data'), partly due to sensors, the Internet, &hellip;</li>\n",
    "            <li>availability of hardware for high volume storage and processing, including GPUs and TPUs, cloud computing, &hellip;\n",
    "                <!-- The next generation of Google's Pixel phones (Pixel 6) uses TPUs: \n",
    "                     https://blog.google/products/pixel/google-tensor-debuts-new-pixel-6-fall/ -->\n",
    "            </li>\n",
    "        </ul>\n",
    "    </li>\n",
    "    <li>We use techniques discovered by these fields for tasks in AI such as prediction (regression, classification),\n",
    "        clustering, speech recognition, machine translation, &hellip;\n",
    "    </li>\n",
    "    <li>But, first, some background maths!</li>\n",
    "</ul> "
   ]
  },
  {
   "cell_type": "markdown",
   "metadata": {
    "slideshow": {
     "slide_type": "slide"
    }
   },
   "source": [
    "<h1>Matrices</h1>\n",
    "<ul>\n",
    "    <li>A <b>matrix</b> is a rectangular array, in our case of real numbers.</li>\n",
    "    <li>\n",
    "        In general, we use bold capital letters, e.g. $\\v{A}$, for matrices, e.g.\n",
    "        $$\\v{A} = \\begin{bmatrix}\n",
    "                      2 & 4 & 0 \\\\\n",
    "                      1 & 3 & 2\n",
    "                  \\end{bmatrix}\n",
    "        $$\n",
    "    </li>\n",
    "    <li>\n",
    "        A matrix with $m$ rows and $n$ columns is an <b>$m \\times n$ matrix</b>.\n",
    "        <ul>\n",
    "            <li>\n",
    "                What are $m$ and $n$ for $\\v{A}$?\n",
    "            </li>\n",
    "        </ul>\n",
    "        $m$ and $n$ are sometimes called its <b>dimensions</b>.\n",
    "    </li>\n",
    "    <li>\n",
    "        We refer to an <b>element</b> of a matrix either using subscripts or indexes:\n",
    "        <ul>\n",
    "            <li>\n",
    "                $\\v{A}_{i,j}$ or $\\v{A}[i,j]$ is the element in the $i$th row and $j$th column.\n",
    "            </li>\n",
    "            <li>\n",
    "                We will index from 1.\n",
    "                <ul>\n",
    "                    <li>\n",
    "                        However, we will sometimes use position 0 for 'technical' purposes.\n",
    "                    </li>\n",
    "                    <li>\n",
    "                        And we must be aware that Python numpy arrays and matrices are 0-indexed.\n",
    "                    </li>\n",
    "                </ul>\n",
    "             </li>\n",
    "             <li>\n",
    "                 So what are $\\v{A}_{2,1}$, $\\v{A}_{1,2}$, $\\v{A}_{0,0}$ and $\\v{A}_{3, 2}$?\n",
    "             </li>\n",
    "        </ul>\n",
    "    </li>\n",
    "</ul>"
   ]
  },
  {
   "cell_type": "markdown",
   "metadata": {
    "slideshow": {
     "slide_type": "slide"
    }
   },
   "source": [
    "<h1>Vectors</h1>\n",
    "<ul>\n",
    "    <li>A <b>vector</b> is a matrix that has only one column, i.e. a $m \\times 1$ matrix.</li>\n",
    "    <li>\n",
    "        A vector with $m$ rows is called a <b>$m$-dimensional</b> vector.\n",
    "    </li>\n",
    "    <li>\n",
    "        In general, we use bold lowercase letters for vectors, e.g.\n",
    "        $$\\v{x} = \\cv{2\\\\4\\\\3}$$\n",
    "    <li>\n",
    "        Sometimes this is called a <b>column vector</b>.\n",
    "    </li>\n",
    "    <li>\n",
    "        Then, by contrast, a <b>row vector</b> is a matrix that has only one row, i.e. a $1 \\times n$ matrix, e.g.\n",
    "        $$\\rv{2, 4, 3}$$\n",
    "    </li>\n",
    "    <li>\n",
    "        Unless stated otherwise, a vector should be assumed to be a column vector.\n",
    "    </li>\n",
    "    <li>\n",
    "        We can refer to an element using a single subscript, again most of the time indexed from 1.\n",
    "        <ul>\n",
    "            <li>\n",
    "                So what is $\\v{x}_1$?\n",
    "            </li>\n",
    "        </ul>\n",
    "    </li>\n",
    "</ul>"
   ]
  },
  {
   "cell_type": "markdown",
   "metadata": {},
   "source": [
    "<h1>Vectors and Matrices in Python</h1>\n",
    "<ul>\n",
    "    <li>We won't use lists!</li>\n",
    "</ul>"
   ]
  },
  {
   "cell_type": "code",
   "execution_count": 13,
   "metadata": {},
   "outputs": [],
   "source": [
    "# We won't be doing it this way\n",
    "\n",
    "x = [2, 4, 3]\n",
    "\n",
    "A = [[2, 4, 0], [1, 3, 2]]"
   ]
  },
  {
   "cell_type": "markdown",
   "metadata": {
    "slideshow": {
     "slide_type": "slide"
    }
   },
   "source": [
    "<ul>\n",
    "    <li>Of the many ways of representing vectors and matrices in Python, we will use two:\n",
    "        <ul>\n",
    "            <li>\n",
    "                pandas library:\n",
    "                <ul>\n",
    "                    <li>for vectors: <code>Series</code>, a kind of one-dimensional array;</li>\n",
    "                    <li>for matrices: <code>DataFrames</code>, which are tabular data structures of rows and (named) columns.\n",
    "                </ul>\n",
    "            </li>\n",
    "            <li>\n",
    "                numpy library:\n",
    "                <ul>\n",
    "                    <li>numpy arrays, which can be one-dimensional, two-dimensional, or have more dimensions.\n",
    "                </ul>\n",
    "                The scikit-learn library expects its data to arrive as numpy arrays.\n",
    "            </li>\n",
    "        </ul>\n",
    "    </li>\n",
    "</ul> "
   ]
  },
  {
   "cell_type": "markdown",
   "metadata": {
    "slideshow": {
     "slide_type": "slide"
    }
   },
   "source": [
    "<h1>Using numpy arrays</h1>"
   ]
  },
  {
   "cell_type": "code",
   "execution_count": 14,
   "metadata": {},
   "outputs": [],
   "source": [
    "# Vectors\n",
    "# We will use a numpy 1d array, which we can create from a list\n",
    "# Note that, done this way, there is no way for us to distinguish between column- and row-vectors\n",
    "x = np.array([2, 4, 3])\n",
    "\n",
    "# Matrices\n",
    "# We will use a numpy 2d array, which we can create from a list of lists\n",
    "A = np.array([[2, 4, 0], [1, 3, 2]])"
   ]
  },
  {
   "cell_type": "markdown",
   "metadata": {},
   "source": [
    "<p>\n",
    "    We can see their dimensions:\n",
    "</p>"
   ]
  },
  {
   "cell_type": "code",
   "execution_count": 15,
   "metadata": {},
   "outputs": [
    {
     "data": {
      "text/plain": [
       "1"
      ]
     },
     "execution_count": 15,
     "metadata": {},
     "output_type": "execute_result"
    }
   ],
   "source": [
    "x.ndim"
   ]
  },
  {
   "cell_type": "code",
   "execution_count": 16,
   "metadata": {},
   "outputs": [
    {
     "data": {
      "text/plain": [
       "(3,)"
      ]
     },
     "execution_count": 16,
     "metadata": {},
     "output_type": "execute_result"
    }
   ],
   "source": [
    "x.shape"
   ]
  },
  {
   "cell_type": "code",
   "execution_count": 17,
   "metadata": {},
   "outputs": [
    {
     "data": {
      "text/plain": [
       "2"
      ]
     },
     "execution_count": 17,
     "metadata": {},
     "output_type": "execute_result"
    }
   ],
   "source": [
    "A.ndim"
   ]
  },
  {
   "cell_type": "code",
   "execution_count": 18,
   "metadata": {},
   "outputs": [
    {
     "data": {
      "text/plain": [
       "(2, 3)"
      ]
     },
     "execution_count": 18,
     "metadata": {},
     "output_type": "execute_result"
    }
   ],
   "source": [
    "A.shape"
   ]
  },
  {
   "cell_type": "markdown",
   "metadata": {},
   "source": [
    "<p>\n",
    "    Note that the shape is always a tuple. Hence, x.shape is (3,), not 3.\n",
    "</p>\n",
    "<!--\n",
    "<p>\n",
    "    We can make it into a nested list using the reshape method, and then its shape is (3,1):\n",
    "</p>\n",
    "X = x.reshape((3,1))\n",
    "X\n",
    "X.shape\n",
    "<p>\n",
    "    Reshaping it to $(3, 1)$ makes it more clearly a column vector: 3 rows, 1 column.\n",
    "</p>\n",
    "<p>\n",
    "    If we had reshaped it to $(1, 3)$, then it would a be more like a row vector: 1 row, 3 columns:\n",
    "</p>\n",
    "X = x.reshape((1, 3))\n",
    "X\n",
    "X.shape\n",
    "<p>\n",
    "    In general, we won't reshape unless necessary. For vectors, we'll just work with 1d numpy arrays.\n",
    "</p>\n",
    "-->"
   ]
  },
  {
   "cell_type": "markdown",
   "metadata": {},
   "source": [
    "We can use the reshape method to give us the same data but with a different shape."
   ]
  },
  {
   "cell_type": "code",
   "execution_count": 19,
   "metadata": {},
   "outputs": [
    {
     "data": {
      "text/plain": [
       "array([[2, 4],\n",
       "       [0, 1],\n",
       "       [3, 2]])"
      ]
     },
     "execution_count": 19,
     "metadata": {},
     "output_type": "execute_result"
    }
   ],
   "source": [
    "B = A.reshape((3,2))\n",
    "B"
   ]
  },
  {
   "cell_type": "code",
   "execution_count": 20,
   "metadata": {},
   "outputs": [
    {
     "data": {
      "text/plain": [
       "(3, 2)"
      ]
     },
     "execution_count": 20,
     "metadata": {},
     "output_type": "execute_result"
    }
   ],
   "source": [
    "B.shape"
   ]
  },
  {
   "cell_type": "markdown",
   "metadata": {
    "slideshow": {
     "slide_type": "slide"
    }
   },
   "source": [
    "<h1>Transpose</h1>\n",
    "<ul>\n",
    "    <li>The <b>transpose</b> of $m \\times n$ matrix $\\v{A}$, written $\\v{A}^T$, is the $n \\times m$ matrix in \n",
    "        which the first row of $\\v{A}$ becomes the first column of $\\v{A}^T$, the second row of $\\v{A}$ becomes \n",
    "        the second column of $\\v{A}^T$, and so on:\n",
    "        <ul>\n",
    "            <li>\n",
    "                $\\v{A}_{i,j}^T = \\v{A}_{j,i}$ for all $i,j$\n",
    "            </li>\n",
    "        </ul>\n",
    "    </li>\n",
    "    <li>\n",
    "        E.g.\n",
    "        $$\\v{A} = \\begin{bmatrix}\n",
    "                2 & 4 & 0 \\\\\n",
    "                1 & 3 & 2\n",
    "              \\end{bmatrix}\\,\\,\\,\\,\\,\\,\\,\\,\\,\\,\n",
    "          \\v{A}^T = \\begin{bmatrix}\n",
    "                     2 & 1 \\\\\n",
    "                     4 & 3 \\\\\n",
    "                     0 & 2\n",
    "                    \\end{bmatrix}\n",
    "        $$\n",
    "    </li>\n",
    "    <li>\n",
    "        As a special case, if $\\v{x}$ is a $m$-dimensional column vector ($m \\times 1$), then $\\v{x}^T$ is a \n",
    "        $m$-dimensional row vector ($1 \\times m$), e.g.\n",
    "        $$\\v{x} = \\cv{2\\\\4\\\\3}\\,\\,\\,\\,\\,\\,\\,\\,\\,\\, \\v{x}^T = \\rv{2, 4, 3}$$\n",
    "    </li>\n",
    "</ul>"
   ]
  },
  {
   "cell_type": "markdown",
   "metadata": {
    "slideshow": {
     "slide_type": "slide"
    }
   },
   "source": [
    "<h2>Transpose in numpy</h2>\n",
    "<ul>\n",
    "    <li>numpy arrays offer easy ways to compute their transpose: either the <code>transpose</code> method or \n",
    "       the <code>T</code> attribute:\n",
    "    </li>\n",
    "</ul>"
   ]
  },
  {
   "cell_type": "code",
   "execution_count": 21,
   "metadata": {},
   "outputs": [],
   "source": [
    "A = np.array([[2, 4, 0], [1, 3, 2]])"
   ]
  },
  {
   "cell_type": "code",
   "execution_count": 22,
   "metadata": {},
   "outputs": [
    {
     "data": {
      "text/plain": [
       "array([[2, 1],\n",
       "       [4, 3],\n",
       "       [0, 2]])"
      ]
     },
     "execution_count": 22,
     "metadata": {},
     "output_type": "execute_result"
    }
   ],
   "source": [
    "# Transpose as a method\n",
    "A.transpose()"
   ]
  },
  {
   "cell_type": "code",
   "execution_count": 23,
   "metadata": {},
   "outputs": [
    {
     "data": {
      "text/plain": [
       "array([[2, 1],\n",
       "       [4, 3],\n",
       "       [0, 2]])"
      ]
     },
     "execution_count": 23,
     "metadata": {},
     "output_type": "execute_result"
    }
   ],
   "source": [
    "# Tranpose as an attribute\n",
    "A.T"
   ]
  },
  {
   "cell_type": "markdown",
   "metadata": {},
   "source": [
    "<h1>Tensors</h1>\n",
    "<ul>\n",
    "    <li>A quantity (a number), often referred to in this context as a <b>scalar</b>, has no dimensions.</li>\n",
    "    <li>A vector has one dimension, $m$.</li>\n",
    "    <li>A matrix has two dimensions, $m$ and $n$.</li>\n",
    "    <li>We can also have objects that have three or more dimensions.</li>\n",
    "    <li>We refer to all of these objects as <b>tensors</b> and we refer to the number of dimensions as the <b>rank</b> of the tensor.\n",
    "        <ul>\n",
    "            <li>A scalar is a rank 0 tensor.</li>\n",
    "            <li>A vector is a rank 1 tensor.</li>\n",
    "            <li>A matrix is a rank 2 tensor.</li>\n",
    "            <li>And we can have rank 3 tensors, rank 4 tensors, and so on.</li>\n",
    "        </ul>\n",
    "    </li>\n",
    "    <li>Be warned that there are lots of different definitions of 'scalar, 'vector', 'dimension' and 'rank' \n",
    "        that you may find if you read around the subject. They may not all agree with my usage. My usage,\n",
    "        I believe, is consistent with the way we use these words in AI.\n",
    "    </li>\n",
    "    <li>The rest of this lecture continues to work only with scalars, vectors and matrices.</li>\n",
    "</ul>"
   ]
  },
  {
   "cell_type": "markdown",
   "metadata": {
    "slideshow": {
     "slide_type": "slide"
    }
   },
   "source": [
    "<h1>Scalar Addition and Scalar Multiplication</h1>\n",
    "<ul>\n",
    "    <li>Scalar addition and multiplication both work <b>elementwise</b>, i.e.:\n",
    "        <ul>\n",
    "            <li>in scalar addition, we add the number to each element in the matrix;</li>\n",
    "            <li>in scalar multiplication, we multiply each element in the matrix by the number.</li>\n",
    "        </ul>\n",
    "     </li>\n",
    "     <li>E.g.\n",
    "        $$\\v{A} = \n",
    "            \\begin{bmatrix}\n",
    "                2 & 4 & 0 \\\\\n",
    "                1 & 3 & 2\n",
    "            \\end{bmatrix}\\,\\,\\,\\,\\,\\,\\,\\,\\,\\,\n",
    "          2 + \\v{A} = \n",
    "            \\begin{bmatrix}\n",
    "                4 & 6 & 2 \\\\\n",
    "                3 & 5 & 4\n",
    "            \\end{bmatrix}\\,\\,\\,\\,\\,\\,\\,\\,\\,\\,\n",
    "          2\\v{A} = \n",
    "            \\begin{bmatrix}\n",
    "                4 & 8 & 0 \\\\\n",
    "                2 & 6 & 4\n",
    "            \\end{bmatrix}\n",
    "        $$\n",
    "    </li>\n",
    "</ul>"
   ]
  },
  {
   "cell_type": "markdown",
   "metadata": {},
   "source": [
    "<h2>Scalar Addition and Scalar Multiplication in numpy</h2>\n",
    "<ul>\n",
    "    <li>numpy arrays enable operations like these using the normal addition, subtraction, multiplication and division\n",
    "        operators and without writing for loops.\n",
    "    </li>\n",
    "</ul>"
   ]
  },
  {
   "cell_type": "code",
   "execution_count": 24,
   "metadata": {},
   "outputs": [],
   "source": [
    "A = np.array([[2, 4, 0], [1, 3, 2]])"
   ]
  },
  {
   "cell_type": "code",
   "execution_count": 25,
   "metadata": {},
   "outputs": [
    {
     "data": {
      "text/plain": [
       "array([[4, 6, 2],\n",
       "       [3, 5, 4]])"
      ]
     },
     "execution_count": 25,
     "metadata": {},
     "output_type": "execute_result"
    }
   ],
   "source": [
    "2 + A"
   ]
  },
  {
   "cell_type": "code",
   "execution_count": 26,
   "metadata": {},
   "outputs": [
    {
     "data": {
      "text/plain": [
       "array([[4, 8, 0],\n",
       "       [2, 6, 4]])"
      ]
     },
     "execution_count": 26,
     "metadata": {},
     "output_type": "execute_result"
    }
   ],
   "source": [
    "2 * A"
   ]
  },
  {
   "cell_type": "markdown",
   "metadata": {},
   "source": [
    "<ul>\n",
    "    <li>Other Python operators also work:</li>\n",
    "</ul>"
   ]
  },
  {
   "cell_type": "code",
   "execution_count": 27,
   "metadata": {
    "scrolled": true
   },
   "outputs": [
    {
     "data": {
      "text/plain": [
       "array([[ 4, 16,  0],\n",
       "       [ 1,  9,  4]])"
      ]
     },
     "execution_count": 27,
     "metadata": {},
     "output_type": "execute_result"
    }
   ],
   "source": [
    "A**2"
   ]
  },
  {
   "cell_type": "markdown",
   "metadata": {
    "slideshow": {
     "slide_type": "slide"
    }
   },
   "source": [
    "<h1>Matrix Addition and Hadamard Product</h1>\n",
    "<ul>\n",
    "    <li>Matrix addition and Hadamard product require two matrices that have <em>the same dimensions</em>.</li>\n",
    "    <li>They are also defined elementwise: by adding or multiplying <em>corresponding</em> elements.</li>\n",
    "     <li>E.g.\n",
    "    $$\n",
    "        \\v{A} = \\begin{bmatrix}\n",
    "                2 & 4 & 0 \\\\\n",
    "                1 & 3 & 2\n",
    "            \\end{bmatrix}\\,\\,\\,\\,\\,\\,\\,\\,\\,\\,\n",
    "        \\v{B} = \\begin{bmatrix}\n",
    "                1 & 0 & 5 \\\\\n",
    "                2 & 3 & 2\n",
    "            \\end{bmatrix}\\,\\,\\,\\,\\,\\,\\,\\,\\,\\,\n",
    "        \\v{A}+\\v{B} = \\begin{bmatrix}\n",
    "                3 & 4 & 5 \\\\\n",
    "                3 & 6 & 4\n",
    "              \\end{bmatrix}\\,\\,\\,\\,\\,\\,\\,\\,\\,\\,\n",
    "        \\v{A}*\\v{B} = \\begin{bmatrix}\n",
    "                2 & 0 & 0 \\\\\n",
    "                2 & 9 & 4\n",
    "              \\end{bmatrix}\n",
    "    $$\n",
    "    </li>\n",
    "    <li>In maths, Hadamard product is more often written with a dot ($\\cdot$ or $\\circ$), but we will use $\\ast$.</li>\n",
    "</ul>"
   ]
  },
  {
   "cell_type": "markdown",
   "metadata": {
    "slideshow": {
     "slide_type": "slide"
    }
   },
   "source": [
    "<h2>Matrix Addition and Hadamard Product in numpy</h2>\n",
    "<ul>\n",
    "    <li>We don't need to write any loops, just use <code>+</code> and <code>&ast;</code>:</li>\n",
    "</ul>"
   ]
  },
  {
   "cell_type": "code",
   "execution_count": 28,
   "metadata": {},
   "outputs": [],
   "source": [
    "A = np.array([[2, 4, 0], [1, 3, 2]])\n",
    "B = np.array([[1, 0, 5], [2, 3, 2]])"
   ]
  },
  {
   "cell_type": "code",
   "execution_count": 29,
   "metadata": {},
   "outputs": [
    {
     "data": {
      "text/plain": [
       "array([[3, 4, 5],\n",
       "       [3, 6, 4]])"
      ]
     },
     "execution_count": 29,
     "metadata": {},
     "output_type": "execute_result"
    }
   ],
   "source": [
    "A + B"
   ]
  },
  {
   "cell_type": "code",
   "execution_count": 30,
   "metadata": {},
   "outputs": [
    {
     "data": {
      "text/plain": [
       "array([[2, 0, 0],\n",
       "       [2, 9, 4]])"
      ]
     },
     "execution_count": 30,
     "metadata": {},
     "output_type": "execute_result"
    }
   ],
   "source": [
    "A * B"
   ]
  },
  {
   "cell_type": "markdown",
   "metadata": {
    "slideshow": {
     "slide_type": "slide"
    }
   },
   "source": [
    "<h1>Matrix Multiplication</h1>\n",
    "<ul>\n",
    "    <li>We can compute $\\v{A}\\v{B}$, the result of multiplying matrices $\\v{A}$ and $\\v{B}$, provided the number of columns\n",
    "        of $\\v{A}$ equals the number of rows of $\\v{B}$.\n",
    "        <ul>\n",
    "            <li>\n",
    "                If $\\v{A}$ is a $m \\times p$ matrix and $\\v{B}$ is a $p \\times n$ matrix, then we can compute $C = \\v{A}\\v{B}$.\n",
    "            </li>\n",
    "            <li>\n",
    "                $\\v{C}$ will be a $m \\times n$ matrix.\n",
    "            </li>\n",
    "        </ul>\n",
    "    </li>\n",
    "    <li>\n",
    "        $\\v{C}_{i,j}$ is obtained by multiplying elements of the $i$th row of $\\v{A}$ by corresponding elements\n",
    "        of the $j$th column of $\\v{B}$ and summing:\n",
    "        $$\\v{C}_{i,j} = \\sum_{k=1}^p\\v{A}_{i,k}\\v{B}_{k,j}$$\n",
    "    </li>\n",
    "    <li>E.g.\n",
    "        $$\\v{A} = \\begin{bmatrix}\n",
    "                    2 & 4 & 0 \\\\\n",
    "                    1 & 3 & 2\n",
    "                  \\end{bmatrix}\\,\\,\\,\\,\\,\\,\\,\\,\\,\\,\n",
    "          \\v{B} = \\begin{bmatrix}\n",
    "                    3 & 1 & 2\\\\\n",
    "                    2 & 3 & 1\\\\\n",
    "                    1 & 3 & 3\n",
    "                    \\end{bmatrix}\\,\\,\\,\\,\\,\\,\\,\\,\\,\\,\n",
    "         \\v{A}\\v{B} = \\begin{bmatrix}\n",
    "                         14 & 14 & 8\\\\\n",
    "                         11 & 16 & 11\n",
    "                      \\end{bmatrix}\n",
    "         $$\n",
    "    </li>\n",
    "    <li>Since vectors are just one-column vectors, matrix multiplication can apply &mdash; provided the dimensions are OK, e.g.\n",
    "        $$\\v{A} = \\begin{bmatrix}\n",
    "                  2 & 4 & 0 \\\\\n",
    "                  1 & 3 & 2\n",
    "                  \\end{bmatrix}\\,\\,\\,\\,\\,\\,\\,\\,\\,\\,\n",
    "          \\v{x} = \\cv{2\\\\3\\\\1}\\,\\,\\,\\,\\,\\,\\,\\,\\,\\,\n",
    "          \\v{y} = \\cv{2\\\\3}\\,\\,\\,\\,\\,\\,\\,\\,\\,\\,\n",
    "          \\v{A}\\v{x} = \\cv{16\\\\13}\\,\\,\\,\\,\\,\\,\\,\\,\\,\\,\n",
    "          \\v{A}\\v{y} \\mbox{ is undefined}\n",
    "        $$\n",
    "    </li>\n",
    "    <li>What about carying out this operation if both are vectors? Well, they'd need to have the same dimension. For\n",
    "        example, here they are both 3-dimensional:\n",
    "        $$\\v{x} = \\cv{2\\\\3\\\\1}\\,\\,\\,\\,\\,\\,\\,\\,\\,\\,\\v{y} = \\cv{-1\\\\6\\\\4}$$\n",
    "        But, even if they are the same dimension, we cannot compute $\\v{x}\\v{y}$ because we need the number of columns\n",
    "        of $\\v{x}$ (in this case, 1) to equal the number of rows of $\\v{y}$ (in this case, 3). \n",
    "    </li>\n",
    "    <li>To get this to work, we need to use the transpose of $\\v{x}$:\n",
    "        $$\\v{x}^T = \\rv{2,3,1}\\,\\,\\,\\,\\,\\,\\,\\,\\,\\,\\v{y} = \\cv{-1\\\\6\\\\4}\\,\\,\\,\\,\\,\\,\\,\\,\\,\\,\\v{x}^T\\v{y} = 20$$\n",
    "        The number of columns\n",
    "        of $\\v{x}^T$ (3) is equal to the number of rows of $\\v{y}$ (also 3). \n",
    "        Note how the result is a scalar. This operation (multiply two vectors) is so common that it crops up with some other names including\n",
    "        the <b>dot product</b> or the scalar product and even the inner product (although, technically, the inner product is \n",
    "        a more general concept).\n",
    "    </li>\n",
    "</ul> "
   ]
  },
  {
   "cell_type": "markdown",
   "metadata": {
    "slideshow": {
     "slide_type": "slide"
    }
   },
   "source": [
    "<h2>Matrix Multiplication in numpy</h2>\n",
    "<ul>\n",
    "    <li>numpy offers <code>dot</code> as a function or method for matrix multiplication:\n",
    "</ul>"
   ]
  },
  {
   "cell_type": "code",
   "execution_count": 31,
   "metadata": {},
   "outputs": [],
   "source": [
    "A = np.array([[2, 4, 0], [1, 3, 2]])\n",
    "B = np.array([[3, 1, 2], [2, 3, 1], [1, 3, 3]])"
   ]
  },
  {
   "cell_type": "code",
   "execution_count": 32,
   "metadata": {},
   "outputs": [
    {
     "data": {
      "text/plain": [
       "array([[14, 14,  8],\n",
       "       [11, 16, 11]])"
      ]
     },
     "execution_count": 32,
     "metadata": {},
     "output_type": "execute_result"
    }
   ],
   "source": [
    "# Multiplication as a function\n",
    "np.dot(A, B)"
   ]
  },
  {
   "cell_type": "code",
   "execution_count": 33,
   "metadata": {},
   "outputs": [
    {
     "data": {
      "text/plain": [
       "array([[14, 14,  8],\n",
       "       [11, 16, 11]])"
      ]
     },
     "execution_count": 33,
     "metadata": {},
     "output_type": "execute_result"
    }
   ],
   "source": [
    "# Multiplication as a method\n",
    "A.dot(B)"
   ]
  },
  {
   "cell_type": "markdown",
   "metadata": {},
   "source": [
    "<ul>\n",
    "    <li>Remember, matrix multplication in numpy is done with <code>dot</code>, not &ast;.</li>\n",
    "    <!--<li>Broadcasting does not apply to matrix multiplication, since it's not an elementwise operation</li>-->\n",
    "</ul>"
   ]
  },
  {
   "cell_type": "markdown",
   "metadata": {
    "slideshow": {
     "slide_type": "slide"
    }
   },
   "source": [
    "<h1>Identity Matrices</h1>\n",
    "<ul>\n",
    "    <li>The $n \\times n$ <b>identity matrix</b>, $\\v{I}_n$, contains zeros except for entries on the main diagonal\n",
    "        (from top left to bottom right):\n",
    "        <ul>\n",
    "            <li>\n",
    "                $\\v{I}_n[i,i] = 1$ for $i = 1,\\ldots,n$ and $\\v{I}_n[i,j] = 0$ for $i \\neq j$\n",
    "            </li>\n",
    "        </ul>\n",
    "    <li>E.g.:\n",
    "        $$\\v{I}_3 = \\begin{bmatrix}\n",
    "                    1 & 0 & 0 \\\\\n",
    "                    0 & 1 & 0 \\\\\n",
    "                    0 & 0 & 1\n",
    "                    \\end{bmatrix}\n",
    "        $$\n",
    "    </li>\n",
    "    <li>\n",
    "        If $\\v{A}$ is an $m \\times n$ matrix then, $\\v{A}\\v{I}_n = \\v{I}_m\\v{A} = \\v{A}$\n",
    "    </li>\n",
    "</ul>"
   ]
  },
  {
   "cell_type": "markdown",
   "metadata": {},
   "source": [
    "<h2>Identity Matrices in numpy</h2>\n",
    "<ul>\n",
    "    <li>Create identity matrices using the <code>identity</code> function:</li>\n",
    "</ul>"
   ]
  },
  {
   "cell_type": "code",
   "execution_count": 34,
   "metadata": {},
   "outputs": [
    {
     "data": {
      "text/plain": [
       "array([[1., 0., 0.],\n",
       "       [0., 1., 0.],\n",
       "       [0., 0., 1.]])"
      ]
     },
     "execution_count": 34,
     "metadata": {},
     "output_type": "execute_result"
    }
   ],
   "source": [
    "np.identity(3)"
   ]
  },
  {
   "cell_type": "markdown",
   "metadata": {
    "slideshow": {
     "slide_type": "slide"
    }
   },
   "source": [
    "<h1>Inverses</h1>\n",
    "<ul>\n",
    "    <li>If $\\v{A}$ is a $n \\times n$ matrix, then its <b>inverse</b>, $\\v{A}^{-1}$ (<em>if it has one</em>) is also \n",
    "        a $n \\times n$ matrix such that $\\v{A}\\v{A}^{-1} = \\v{I}_n$.\n",
    "    </li>\n",
    "    <li>E.g.\n",
    "        $$\\v{A} = \\begin{bmatrix}\n",
    "                    1 &  0 & 2 \\\\\n",
    "                    2 & -1 & 3 \\\\\n",
    "                    4 &  1 & 8\n",
    "                 \\end{bmatrix}\\,\\,\\,\\,\\,\\,\\,\\,\\,\\,\n",
    "         \\v{A}^{-1} = \\begin{bmatrix}\n",
    "                     -11 &  2 &  2 \\\\\n",
    "                      -4 &  0 &  1 \\\\\n",
    "                       6 & -1 & -1\n",
    "                      \\end{bmatrix}\n",
    "        $$\n",
    "    </li>\n",
    "    <li>\n",
    "        Some $n \\times n$ matrices do not have inverses, e.g.\n",
    "        $$\\begin{bmatrix}\n",
    "            1 & 1 & 1 \\\\\n",
    "            1 & 1 & 1 \\\\\n",
    "            1 & 1 & 1\n",
    "           \\end{bmatrix}$$\n",
    "        In these cases, provided the matrix is square, you can compute a <b>pseudo-inverse</b>, which you can use \n",
    "        for <em>some</em> of the same purposes instead.\n",
    "    </li>\n",
    "</ul>"
   ]
  },
  {
   "cell_type": "markdown",
   "metadata": {
    "slideshow": {
     "slide_type": "slide"
    }
   },
   "source": [
    "<h2>Inverses in numpy</h2>\n",
    "<ul>\n",
    "    <li>numpy.linalg offers function <code>inv</code> for computing inverses, but also function \n",
    "        <code>pinv</code> for computing the Moore-Penrose pseudo-inverse:\n",
    "    </li>\n",
    "</ul>"
   ]
  },
  {
   "cell_type": "code",
   "execution_count": 35,
   "metadata": {},
   "outputs": [
    {
     "data": {
      "text/plain": [
       "array([[-11.,   2.,   2.],\n",
       "       [ -4.,  -0.,   1.],\n",
       "       [  6.,  -1.,  -1.]])"
      ]
     },
     "execution_count": 35,
     "metadata": {},
     "output_type": "execute_result"
    }
   ],
   "source": [
    "A = np.array([[1, 0, 2], [2, -1, 3], [4, 1, 8]])\n",
    "\n",
    "npla.inv(A)"
   ]
  },
  {
   "cell_type": "code",
   "execution_count": 36,
   "metadata": {},
   "outputs": [
    {
     "data": {
      "text/plain": [
       "array([[-1.10000000e+01,  2.00000000e+00,  2.00000000e+00],\n",
       "       [-4.00000000e+00,  1.17413148e-14,  1.00000000e+00],\n",
       "       [ 6.00000000e+00, -1.00000000e+00, -1.00000000e+00]])"
      ]
     },
     "execution_count": 36,
     "metadata": {},
     "output_type": "execute_result"
    }
   ],
   "source": [
    "npla.pinv(A)"
   ]
  },
  {
   "cell_type": "code",
   "execution_count": 37,
   "metadata": {},
   "outputs": [
    {
     "ename": "LinAlgError",
     "evalue": "Singular matrix",
     "output_type": "error",
     "traceback": [
      "\u001b[0;31m---------------------------------------------------------------------------\u001b[0m",
      "\u001b[0;31mLinAlgError\u001b[0m                               Traceback (most recent call last)",
      "Cell \u001b[0;32mIn[37], line 3\u001b[0m\n\u001b[1;32m      1\u001b[0m B \u001b[38;5;241m=\u001b[39m np\u001b[38;5;241m.\u001b[39mones((\u001b[38;5;241m3\u001b[39m,\u001b[38;5;241m3\u001b[39m))\n\u001b[0;32m----> 3\u001b[0m \u001b[43mnpla\u001b[49m\u001b[38;5;241;43m.\u001b[39;49m\u001b[43minv\u001b[49m\u001b[43m(\u001b[49m\u001b[43mB\u001b[49m\u001b[43m)\u001b[49m \u001b[38;5;66;03m# raises an exception\u001b[39;00m\n",
      "File \u001b[0;32m~/AI/venv/lib/python3.12/site-packages/numpy/linalg/linalg.py:561\u001b[0m, in \u001b[0;36minv\u001b[0;34m(a)\u001b[0m\n\u001b[1;32m    559\u001b[0m signature \u001b[38;5;241m=\u001b[39m \u001b[38;5;124m'\u001b[39m\u001b[38;5;124mD->D\u001b[39m\u001b[38;5;124m'\u001b[39m \u001b[38;5;28;01mif\u001b[39;00m isComplexType(t) \u001b[38;5;28;01melse\u001b[39;00m \u001b[38;5;124m'\u001b[39m\u001b[38;5;124md->d\u001b[39m\u001b[38;5;124m'\u001b[39m\n\u001b[1;32m    560\u001b[0m extobj \u001b[38;5;241m=\u001b[39m get_linalg_error_extobj(_raise_linalgerror_singular)\n\u001b[0;32m--> 561\u001b[0m ainv \u001b[38;5;241m=\u001b[39m \u001b[43m_umath_linalg\u001b[49m\u001b[38;5;241;43m.\u001b[39;49m\u001b[43minv\u001b[49m\u001b[43m(\u001b[49m\u001b[43ma\u001b[49m\u001b[43m,\u001b[49m\u001b[43m \u001b[49m\u001b[43msignature\u001b[49m\u001b[38;5;241;43m=\u001b[39;49m\u001b[43msignature\u001b[49m\u001b[43m,\u001b[49m\u001b[43m \u001b[49m\u001b[43mextobj\u001b[49m\u001b[38;5;241;43m=\u001b[39;49m\u001b[43mextobj\u001b[49m\u001b[43m)\u001b[49m\n\u001b[1;32m    562\u001b[0m \u001b[38;5;28;01mreturn\u001b[39;00m wrap(ainv\u001b[38;5;241m.\u001b[39mastype(result_t, copy\u001b[38;5;241m=\u001b[39m\u001b[38;5;28;01mFalse\u001b[39;00m))\n",
      "File \u001b[0;32m~/AI/venv/lib/python3.12/site-packages/numpy/linalg/linalg.py:112\u001b[0m, in \u001b[0;36m_raise_linalgerror_singular\u001b[0;34m(err, flag)\u001b[0m\n\u001b[1;32m    111\u001b[0m \u001b[38;5;28;01mdef\u001b[39;00m \u001b[38;5;21m_raise_linalgerror_singular\u001b[39m(err, flag):\n\u001b[0;32m--> 112\u001b[0m     \u001b[38;5;28;01mraise\u001b[39;00m LinAlgError(\u001b[38;5;124m\"\u001b[39m\u001b[38;5;124mSingular matrix\u001b[39m\u001b[38;5;124m\"\u001b[39m)\n",
      "\u001b[0;31mLinAlgError\u001b[0m: Singular matrix"
     ]
    }
   ],
   "source": [
    "B = np.ones((3,3))\n",
    "\n",
    "npla.inv(B) # raises an exception"
   ]
  },
  {
   "cell_type": "code",
   "execution_count": 38,
   "metadata": {},
   "outputs": [
    {
     "data": {
      "text/plain": [
       "array([[0.11111111, 0.11111111, 0.11111111],\n",
       "       [0.11111111, 0.11111111, 0.11111111],\n",
       "       [0.11111111, 0.11111111, 0.11111111]])"
      ]
     },
     "execution_count": 38,
     "metadata": {},
     "output_type": "execute_result"
    }
   ],
   "source": [
    "npla.pinv(B)"
   ]
  },
  {
   "cell_type": "markdown",
   "metadata": {},
   "source": [
    "<h1>Some numpy Methods</h1>\n",
    "<ul>\n",
    "    <li>numpy offers methods for calculations that, in other languages, would require you to write loops</li>\n",
    "    <li>E.g. <code>sum</code>, <code>mean</code>, <code>min</code>, <code>max</code>, <code>argmin</code>, <code>argmax</code>,\n",
    "        &hellip;\n",
    "    </li>\n",
    "</ul>"
   ]
  },
  {
   "cell_type": "code",
   "execution_count": 39,
   "metadata": {},
   "outputs": [],
   "source": [
    "x = np.array([2, 4, 3])\n",
    "A = np.array([[2, 4, 0], [1, 3, 2]])"
   ]
  },
  {
   "cell_type": "code",
   "execution_count": 40,
   "metadata": {},
   "outputs": [
    {
     "data": {
      "text/plain": [
       "9"
      ]
     },
     "execution_count": 40,
     "metadata": {},
     "output_type": "execute_result"
    }
   ],
   "source": [
    "x.sum()"
   ]
  },
  {
   "cell_type": "code",
   "execution_count": 41,
   "metadata": {},
   "outputs": [
    {
     "data": {
      "text/plain": [
       "12"
      ]
     },
     "execution_count": 41,
     "metadata": {},
     "output_type": "execute_result"
    }
   ],
   "source": [
    "A.sum()"
   ]
  },
  {
   "cell_type": "markdown",
   "metadata": {},
   "source": [
    "<h1>Some numpy Universal Functions</h1>\n",
    "<ul>\n",
    "    <li>Consider a function such as <code>sqrt</code>.</li>\n",
    "    <li>In Python, <code>sqrt</code> (from the <code>math</code> library) takes in a number but can't take in a\n",
    "        list of numbers:\n",
    "    </li>\n",
    "</ul>"
   ]
  },
  {
   "cell_type": "code",
   "execution_count": 42,
   "metadata": {},
   "outputs": [
    {
     "data": {
      "text/plain": [
       "3.0"
      ]
     },
     "execution_count": 42,
     "metadata": {},
     "output_type": "execute_result"
    }
   ],
   "source": [
    "sqrt(9)"
   ]
  },
  {
   "cell_type": "code",
   "execution_count": 43,
   "metadata": {},
   "outputs": [
    {
     "ename": "TypeError",
     "evalue": "must be real number, not list",
     "output_type": "error",
     "traceback": [
      "\u001b[0;31m---------------------------------------------------------------------------\u001b[0m",
      "\u001b[0;31mTypeError\u001b[0m                                 Traceback (most recent call last)",
      "Cell \u001b[0;32mIn[43], line 1\u001b[0m\n\u001b[0;32m----> 1\u001b[0m \u001b[43msqrt\u001b[49m\u001b[43m(\u001b[49m\u001b[43m[\u001b[49m\u001b[38;5;241;43m1\u001b[39;49m\u001b[43m,\u001b[49m\u001b[43m \u001b[49m\u001b[38;5;241;43m4\u001b[39;49m\u001b[43m,\u001b[49m\u001b[43m \u001b[49m\u001b[38;5;241;43m9\u001b[39;49m\u001b[43m]\u001b[49m\u001b[43m)\u001b[49m \u001b[38;5;66;03m# Raises an exception\u001b[39;00m\n",
      "\u001b[0;31mTypeError\u001b[0m: must be real number, not list"
     ]
    }
   ],
   "source": [
    "sqrt([1, 4, 9]) # Raises an exception"
   ]
  },
  {
   "cell_type": "markdown",
   "metadata": {},
   "source": [
    "<ul>\n",
    "    <li>But, the corresponding numpy function can apply to arrays:</li>\n",
    "</ul>"
   ]
  },
  {
   "cell_type": "code",
   "execution_count": 44,
   "metadata": {},
   "outputs": [
    {
     "data": {
      "text/plain": [
       "3.0"
      ]
     },
     "execution_count": 44,
     "metadata": {},
     "output_type": "execute_result"
    }
   ],
   "source": [
    "np.sqrt(9)"
   ]
  },
  {
   "cell_type": "code",
   "execution_count": 45,
   "metadata": {},
   "outputs": [
    {
     "data": {
      "text/plain": [
       "array([1., 2., 3.])"
      ]
     },
     "execution_count": 45,
     "metadata": {},
     "output_type": "execute_result"
    }
   ],
   "source": [
    "x = np.array([1, 4, 9])\n",
    "\n",
    "np.sqrt(x)"
   ]
  },
  {
   "cell_type": "code",
   "execution_count": 46,
   "metadata": {},
   "outputs": [
    {
     "data": {
      "text/plain": [
       "array([[1., 2., 3.],\n",
       "       [4., 5., 6.],\n",
       "       [7., 8., 9.]])"
      ]
     },
     "execution_count": 46,
     "metadata": {},
     "output_type": "execute_result"
    }
   ],
   "source": [
    "A = np.array([[1, 4, 9], [16, 25, 36], [49, 64, 81]])\n",
    "\n",
    "np.sqrt(A)"
   ]
  },
  {
   "cell_type": "markdown",
   "metadata": {},
   "source": [
    "<ul>\n",
    "    <li>The function is applied elementwise</li>\n",
    "    <li>In numpy, these are called 'universal functions' (or 'ufuncs')</li>\n",
    "    <li>Others include: <code>abs</code>, <code>exp</code>, <code>log10</code>, &hellip;</li>\n",
    "</ul>"
   ]
  },
  {
   "cell_type": "markdown",
   "metadata": {
    "slideshow": {
     "slide_type": "slide"
    }
   },
   "source": [
    "<h1>Vectorization</h1>\n",
    "<ul>\n",
    "    <li>Algorithms that might otherwise need for-loops and indexing can often be written much more succinctly by expressing them\n",
    "            in terms of operators, methods and functions that work on entire arrays.\n",
    "    </li>\n",
    "    <li>More than this, if your programming language has efficient implementations of\n",
    "        these operators, methods and functions, the resulting programs can run much faster too.\n",
    "        <ul>\n",
    "            <li>numpy's operators, methods and functions, for example, are typically one or more orders of magnitude faster \n",
    "                than their pure Python equivalents (written using loops and indexing).\n",
    "            </li>\n",
    "        </ul>\n",
    "        So, avoid loops and indexing!\n",
    "    </li>\n",
    "    <li>Using fast array operators, methods and functions in this way is known as <b>vectorization</b>.\n",
    "    </li>\n",
    "</ul>"
   ]
  },
  {
   "cell_type": "code",
   "execution_count": 47,
   "metadata": {},
   "outputs": [],
   "source": [
    "def sum(L):\n",
    "    total = 0.0\n",
    "    for x in L:\n",
    "        total += x\n",
    "    return total"
   ]
  },
  {
   "cell_type": "code",
   "execution_count": 48,
   "metadata": {},
   "outputs": [],
   "source": [
    "x = list(range(1, 201))"
   ]
  },
  {
   "cell_type": "code",
   "execution_count": 49,
   "metadata": {},
   "outputs": [
    {
     "name": "stdout",
     "output_type": "stream",
     "text": [
      "4.08 μs ± 23.5 ns per loop (mean ± std. dev. of 7 runs, 100,000 loops each)\n"
     ]
    }
   ],
   "source": [
    "%timeit sum(x)"
   ]
  },
  {
   "cell_type": "code",
   "execution_count": 50,
   "metadata": {},
   "outputs": [],
   "source": [
    "x = np.arange(1, 201)"
   ]
  },
  {
   "cell_type": "code",
   "execution_count": 51,
   "metadata": {},
   "outputs": [
    {
     "name": "stdout",
     "output_type": "stream",
     "text": [
      "1.24 μs ± 24.7 ns per loop (mean ± std. dev. of 7 runs, 1,000,000 loops each)\n"
     ]
    }
   ],
   "source": [
    "%timeit np.sum(x)"
   ]
  },
  {
   "cell_type": "markdown",
   "metadata": {},
   "source": [
    "<p>\n",
    "    By default, <code>timeit</code> runs your code enough times to get sufficient accuracy (100000 in the above) and computes the average run time, then it does it again,\n",
    "    and then again, until it has done it seven times, and tells you the best of these seven average run times. It does this to try to make its measurements\n",
    "    robust when other things are happening on your machine at the same time.\n",
    "</p>"
   ]
  },
  {
   "cell_type": "code",
   "execution_count": null,
   "metadata": {},
   "outputs": [],
   "source": []
  },
  {
   "cell_type": "code",
   "execution_count": null,
   "metadata": {},
   "outputs": [],
   "source": []
  }
 ],
 "metadata": {
  "celltoolbar": "Slideshow",
  "kernelspec": {
   "display_name": "Python 3 (ipykernel)",
   "language": "python",
   "name": "python3"
  },
  "language_info": {
   "codemirror_mode": {
    "name": "ipython",
    "version": 3
   },
   "file_extension": ".py",
   "mimetype": "text/x-python",
   "name": "python",
   "nbconvert_exporter": "python",
   "pygments_lexer": "ipython3",
   "version": "3.12.4"
  }
 },
 "nbformat": 4,
 "nbformat_minor": 4
}
