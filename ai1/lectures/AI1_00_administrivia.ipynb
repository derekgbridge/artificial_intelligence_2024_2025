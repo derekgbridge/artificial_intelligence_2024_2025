{
 "cells": [
  {
   "cell_type": "markdown",
   "metadata": {
    "slideshow": {
     "slide_type": "slide"
    }
   },
   "source": [
    "<h1>CS4618: Artificial Intelligence I</h1>\n",
    "<h1>Introduction</h1>\n",
    "<h2>\n",
    "    Derek Bridge<br />\n",
    "    School of Computer Science and Information Technology<br />\n",
    "    University College Cork\n",
    "</h2>"
   ]
  },
  {
   "cell_type": "markdown",
   "metadata": {
    "slideshow": {
     "slide_type": "slide"
    }
   },
   "source": [
    "<h1>About CS4618 &amp; CS4619</h1>\n",
    "<table>\n",
    "    <tr>\n",
    "        <th style=\"text-align: left;\">Lecturer:</th>\n",
    "        <td style=\"text-align: left;\">Derek Bridge, Room 2-64, Western Gateway Building<br />\n",
    "            d stop bridge amphora cs plip ucc plop ie<br />\n",
    "            <a href=\"http://www.cs.ucc.ie/dbridge.html\">www.cs.ucc.ie/dbridge.html</a>\n",
    "        </td>\n",
    "    </tr>\n",
    "    <tr>\n",
    "        <th style=\"text-align: left;\">Credit weighting:</th>\n",
    "        <td style=\"text-align: left;\">Both modules are 5-credit electives</td>\n",
    "    </tr>\n",
    "    <tr>\n",
    "        <th style=\"text-align: left;\">Prerequisites:</th>\n",
    "        <td style=\"text-align: left;\">Maths: Lots of notation and formulae, especially vectors and matrices<br />\n",
    "            Python programming<br />\n",
    "            Algorithms &amp; Data Structures: CS2515, CS2516 <br />\n",
    "            High mental capacity: lots of detail!\n",
    "        </td>\n",
    "    </tr>\n",
    "</table>"
   ]
  },
  {
   "cell_type": "markdown",
   "metadata": {
    "slideshow": {
     "slide_type": "slide"
    }
   },
   "source": [
    "<h1>About CS4618 &amp; CS4619</h1>\n",
    "<table>\n",
    "    <tr>\n",
    "        <th style=\"text-align: left;\">Lectures:</th>\n",
    "        <td style=\"text-align: left;\">\n",
    "            2 &times; 1 hr per week<!-- <br />\n",
    "            Delivered synchronously online using MS-teams-->\n",
    "        </td>\n",
    "    </tr>\n",
    "    <tr>\n",
    "        <th style=\"text-align: left;\">Labs:</th>\n",
    "        <td style=\"text-align: left;\">\n",
    "            1 &times; 2 hrs per week<!-- <br />\n",
    "            Delivered synchronously online using MS-teams-->\n",
    "        </td>\n",
    "    </tr>\n",
    "    <tr>\n",
    "        <th style=\"text-align: left;\">Private study:</th>\n",
    "        <td style=\"text-align: left;\">At least 2 hrs per week</td>\n",
    "    </tr>\n",
    "</table>"
   ]
  },
  {
   "cell_type": "markdown",
   "metadata": {
    "slideshow": {
     "slide_type": "slide"
    }
   },
   "source": [
    "<h1>About CS4618 &amp; CS4619</h1>\n",
    "<table>\n",
    "    <tr>\n",
    "        <th style=\"text-align: left;\">Examination:</th>\n",
    "        <td style=\"text-align: left;\">1.5 hr <!--online--> written exam <!--through Canvas--> (80% of the marks). <!-- At the moment, we are expecting this to be --> This is an invigilated, in-person exam, for which you would need to be in Cork.</td>\n",
    "    </tr>\n",
    "    <tr>\n",
    "        <th style=\"text-align: left;\">Continuous assessment:</th>\n",
    "        <td style=\"text-align: left;\">Short programming assignment<!--(s)--> (20% of the marks)</td>\n",
    "    </tr>\n",
    "    <tr>\n",
    "        <th style=\"text-align: left;\">How to fail:</th>\n",
    "        <td style=\"text-align: left;\">Skip lectures &amp; labs; avoid private study; cram just before the exam; expect the exam to be a memory test</td>\n",
    "    </tr>\n",
    "    <tr>\n",
    "        <th style=\"text-align: left;\">How to pass:</th>\n",
    "        <td style=\"text-align: left;\">Attend lectures &amp; labs; summarize the notes; tackle the lab activities properly; expect a problem-solving exam</td>\n",
    "    </tr>\n",
    "</table>"
   ]
  },
  {
   "cell_type": "markdown",
   "metadata": {
    "slideshow": {
     "slide_type": "slide"
    }
   },
   "source": [
    "<h1>Plagiarism</h1>\n",
    "<ol>\n",
    "    <li>\n",
    "        Plagiarism is presenting someone else’s work as your own. It is a violation of UCC Policy and there are \n",
    "        strict and severe penalties.\n",
    "    </li>\n",
    "    <li>\n",
    "        You must read and comply with the UCC Policy on Plagiarism <a href=\"http://www.ucc.ie/en/exams/procedures-regulations/\">www.ucc.ie/en/exams/procedures-regulations/</a>\n",
    "    </li>\n",
    "    <li>\n",
    "        The Policy applies to all work submitted, including software.\n",
    "    </li>\n",
    "    <li>\n",
    "        You can expect that your work will be checked for evidence of plagiarism or collusion.\n",
    "    </li>\n",
    "    <li>\n",
    "        In some circumstances it may be acceptable to reuse a small amount of work by others, but only if you \n",
    "        provide explicit acknowledgement and justification.\n",
    "    </li>\n",
    "    <li>\n",
    "        If in doubt ask your module lecturer prior to submission. Better safe than sorry!\n",
    "    </li>\n",
    "</ol>\n",
    "<p>\n",
    "    Students should be aware of the School policy that the use of ChatGPT or Copilot or similar tools to generate text, code or diagrams without clear attribution will be considered an academic offence equivalent to plagiarism.\n",
    "</p>"
   ]
  },
  {
   "cell_type": "markdown",
   "metadata": {},
   "source": [
    "<h1>G'luck!</h1>"
   ]
  },
  {
   "cell_type": "code",
   "execution_count": null,
   "metadata": {},
   "outputs": [],
   "source": []
  },
  {
   "cell_type": "code",
   "execution_count": null,
   "metadata": {},
   "outputs": [],
   "source": []
  }
 ],
 "metadata": {
  "celltoolbar": "Slideshow",
  "kernelspec": {
   "display_name": "Python 3 (ipykernel)",
   "language": "python",
   "name": "python3"
  },
  "language_info": {
   "codemirror_mode": {
    "name": "ipython",
    "version": 3
   },
   "file_extension": ".py",
   "mimetype": "text/x-python",
   "name": "python",
   "nbconvert_exporter": "python",
   "pygments_lexer": "ipython3",
   "version": "3.12.4"
  }
 },
 "nbformat": 4,
 "nbformat_minor": 4
}
