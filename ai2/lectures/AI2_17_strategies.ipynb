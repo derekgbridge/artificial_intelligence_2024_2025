{
 "cells": [
  {
   "cell_type": "markdown",
   "metadata": {
    "slideshow": {
     "slide_type": "slide"
    }
   },
   "source": [
    "<h1>CS4619: Artificial Intelligence II</h1>\n",
    "<h1>Search Strategies</h1>\n",
    "<h2>\n",
    "    Derek Bridge<br>\n",
    "    School of Computer Science and Information Technology<br>\n",
    "    University College Cork\n",
    "</h2>"
   ]
  },
  {
   "cell_type": "markdown",
   "metadata": {
    "slideshow": {
     "slide_type": "skip"
    }
   },
   "source": [
    "<h1>Initialization</h1>\n",
    "$\\newcommand{\\Set}[1]{\\{#1\\}}$ \n",
    "$\\newcommand{\\Tuple}[1]{\\langle#1\\rangle}$ \n",
    "$\\newcommand{\\v}[1]{\\pmb{#1}}$ \n",
    "$\\newcommand{\\cv}[1]{\\begin{bmatrix}#1\\end{bmatrix}}$ \n",
    "$\\newcommand{\\rv}[1]{[#1]}$ \n",
    "$\\DeclareMathOperator{\\argmax}{arg\\,max}$ \n",
    "$\\DeclareMathOperator{\\argmin}{arg\\,min}$ \n",
    "$\\DeclareMathOperator{\\dist}{dist}$\n",
    "$\\DeclareMathOperator{\\abs}{abs}$"
   ]
  },
  {
   "cell_type": "code",
   "execution_count": 1,
   "metadata": {
    "slideshow": {
     "slide_type": "skip"
    }
   },
   "outputs": [],
   "source": [
    "%reload_ext autoreload\n",
    "%autoreload 2\n",
    "%matplotlib inline"
   ]
  },
  {
   "cell_type": "code",
   "execution_count": 2,
   "metadata": {
    "slideshow": {
     "slide_type": "skip"
    }
   },
   "outputs": [],
   "source": [
    "import pandas as pd\n",
    "import numpy as np\n",
    "import matplotlib.pyplot as plt"
   ]
  },
  {
   "cell_type": "markdown",
   "metadata": {
    "slideshow": {
     "slide_type": "slide"
    }
   },
   "source": [
    "<h1>Class exercise</h1>\n",
    "<ul>\n",
    "    <li>Consider using a breadth-first strategy on the 8-puzzle.</li>\n",
    "    <li>Will switching to depth-first search increase or decrease the size of the state space?</li>\n",
    "</ul>"
   ]
  },
  {
   "cell_type": "markdown",
   "metadata": {
    "slideshow": {
     "slide_type": "slide"
    }
   },
   "source": [
    "<h1>Least-cost search</h1>\n",
    "<ul>\n",
    "    <li>Treat the agenda as a <b>priority-ordered queue</b>:\n",
    "        <ul>\n",
    "            <li>nodes are ordered by ascending path cost;</li>\n",
    "            <li>(in the case of ties, we'll assume an arbitrary order for those that tie).</li>\n",
    "        </ul>\n",
    "    </li>\n",
    "    <li>Hence, the least-cost path is extended at every step.</li>\n",
    "    <li>We will illustrate in the lecture using this state space:<br />\n",
    "        <img src=\"images/ss1.png\" />\n",
    "    </li>\n",
    "</ul>"
   ]
  },
  {
   "cell_type": "markdown",
   "metadata": {
    "slideshow": {
     "slide_type": "slide"
    }
   },
   "source": [
    "<h1>Evaluation</h1>\n",
    "<ul>\n",
    "    <li>Is least-cost search complete?</li>\n",
    "    <li>Is least-cost search optimal?</li>\n",
    "    <li>What is its time complexity?</li>\n",
    "    <li>What is its space complexity?</li>\n",
    "</ul>"
   ]
  },
  {
   "cell_type": "markdown",
   "metadata": {
    "slideshow": {
     "slide_type": "slide"
    }
   },
   "source": [
    "<h1>Informed search</h1>\n",
    "<ul>\n",
    "    <li>In <b>informed search</b> (heuristic search, directed search), the agenda again is a <b>priority-ordered queue</b>.</li>\n",
    "    <li>But nodes are ordered by their ‘promise’, computed by an <b>evaluation function</b>.\n",
    "        <ul>\n",
    "            <li>Perhaps counter-intuitively, the convention is that smaller numbers designate higher 'promise'.</li>\n",
    "            <li>So the queue will be in ascending order.</li>\n",
    "        </ul>\n",
    "    </li>\n",
    "    <li>The evaluation function is typically a <b>heuristic</b> function, which <em>estimates</em> the cost of the cheapest \n",
    "        path from the state to a goal state.\n",
    "        <ul>\n",
    "            <li>Note that heuristic functions evaluate <em>states</em>, not actions.</li>\n",
    "            <li>Note that heuristic functions are problem-specific.</li>\n",
    "        </ul>\n",
    "    </li>\n",
    "</ul>"
   ]
  },
  {
   "cell_type": "markdown",
   "metadata": {
    "slideshow": {
     "slide_type": "slide"
    }
   },
   "source": [
    "<h1>Heuristic function</h1>\n",
    "<ul>\n",
    "    <li>For the 8-tiles puzzle, e.g.\n",
    "        $$h_1(n) = \\mbox{the number of tiles out of place in this state relative to the goal state}$$\n",
    "    </li>\n",
    "    <li>Example:\n",
    "        <ul>\n",
    "            <li>State being evaluated:\n",
    "                <table>\n",
    "                    <tr><td style=\"border: 1px solid black;\">8</td><td style=\"border: 1px solid black;\">2</td><td style=\"border: 1px solid black;\">7</td></tr>\n",
    "                    <tr><td style=\"border: 1px solid black;\">6</td><td style=\"border: 1px solid black;\">1</td><td style=\"border: 1px solid black;\">3</td></tr>\n",
    "                    <tr><td style=\"border: 1px solid black;\">4</td><td style=\"border: 1px solid black;\"> </td><td style=\"border: 1px solid black;\">5</td></tr>\n",
    "                </table>\n",
    "            </li>\n",
    "            <li>Goal state:\n",
    "                <table>\n",
    "                    <tr><td style=\"border: 1px solid black;\">1</td><td style=\"border: 1px solid black;\">2</td><td style=\"border: 1px solid black;\">3</td></tr>\n",
    "                    <tr><td style=\"border: 1px solid black;\">8</td><td style=\"border: 1px solid black;\"> </td><td style=\"border: 1px solid black;\">4</td></tr>\n",
    "                    <tr><td style=\"border: 1px solid black;\">7</td><td style=\"border: 1px solid black;\">6</td><td style=\"border: 1px solid black;\">5</td></tr>\n",
    "                </table>\n",
    "            </li>\n",
    "        </ul>\n",
    "    </li>\n",
    "</ul>"
   ]
  },
  {
   "cell_type": "markdown",
   "metadata": {
    "slideshow": {
     "slide_type": "slide"
    }
   },
   "source": [
    "<h1>Heuristic function</h1>\n",
    "<ul>\n",
    "    <li>For the 8-tiles puzzle, e.g.\n",
    "        $$h_2(n) = \\mbox{the sum, for each tile, of the Manhattan distance between its position in this state and its position in the goal state}$$\n",
    "    </li>\n",
    "    <li>Example:\n",
    "        <ul>\n",
    "            <li>State being evaluated:\n",
    "                <table>\n",
    "                    <tr><td style=\"border: 1px solid black;\">8</td><td style=\"border: 1px solid black;\">2</td><td style=\"border: 1px solid black;\">7</td></tr>\n",
    "                    <tr><td style=\"border: 1px solid black;\">6</td><td style=\"border: 1px solid black;\">1</td><td style=\"border: 1px solid black;\">3</td></tr>\n",
    "                    <tr><td style=\"border: 1px solid black;\">4</td><td style=\"border: 1px solid black;\"> </td><td style=\"border: 1px solid black;\">5</td></tr>\n",
    "                </table>\n",
    "            </li>\n",
    "            <li>Goal state:\n",
    "                <table>\n",
    "                    <tr><td style=\"border: 1px solid black;\">1</td><td style=\"border: 1px solid black;\">2</td><td style=\"border: 1px solid black;\">3</td></tr>\n",
    "                    <tr><td style=\"border: 1px solid black;\">8</td><td style=\"border: 1px solid black;\"> </td><td style=\"border: 1px solid black;\">4</td></tr>\n",
    "                    <tr><td style=\"border: 1px solid black;\">7</td><td style=\"border: 1px solid black;\">6</td><td style=\"border: 1px solid black;\">5</td></tr>\n",
    "                </table>\n",
    "            </li>\n",
    "        </ul>\n",
    "    </li>\n",
    "</ul>"
   ]
  },
  {
   "cell_type": "markdown",
   "metadata": {
    "slideshow": {
     "slide_type": "slide"
    }
   },
   "source": [
    "<h1>Greedy search</h1>\n",
    "<ul>\n",
    "    <li>Evaluation function consists only of heuristic function</li>\n",
    "    <li>Hence, most promising node (according to heuristic) is always the one expanded next</li>\n",
    "    <li>We will illustrate in the lecture using this state space:<br />\n",
    "        <img src=\"images/ss2.png\" />\n",
    "    </li>\n",
    "</ul>"
   ]
  },
  {
   "cell_type": "markdown",
   "metadata": {
    "slideshow": {
     "slide_type": "slide"
    }
   },
   "source": [
    "<h1>Evaluation</h1>\n",
    "<ul>\n",
    "    <li>Is greedy search complete?</li>\n",
    "    <li>Is greedy search optimal?</li>\n",
    "    <li>What is its time complexity?</li>\n",
    "    <li>What is its space complexity?</li>\n",
    "</ul>"
   ]
  },
  {
   "cell_type": "markdown",
   "metadata": {
    "slideshow": {
     "slide_type": "slide"
    }
   },
   "source": [
    "<h1>$A^*$ search</h1>\n",
    "<ul>\n",
    "    <li>In $A^*$ search, \n",
    "        <ul>\n",
    "            <li>the evaluation function consists of the path cost as well as the heuristic function: \n",
    "                $$f(n) = g(n) + h(n)$$\n",
    "            </li>\n",
    "            <li>furthermore, $h$ must be an <b>admissible</b> heuristic:\n",
    "                <ul>\n",
    "                    <li>one that <em>never over-estimates</em> the cost of the path to the nearest goal.</li>\n",
    "                </ul>\n",
    "            </li>\n",
    "        </ul>\n",
    "    </li>\n",
    "    <li>Class exercise: Was $h_1$ for the 8-tiles puzzle (see earlier) admissible? What about $h_2$?\n",
    "    </li>\n",
    "    <li>We will illustrate in the lecture using the same state space that we used for greedy search.\n",
    "    </li>\n",
    "</ul>"
   ]
  },
  {
   "cell_type": "markdown",
   "metadata": {
    "slideshow": {
     "slide_type": "slide"
    }
   },
   "source": [
    "<h1>(Advanced) Strictly speaking&hellip;</h1>\n",
    "<ul>\n",
    "    <li>One way to avoid re-exploration was: \n",
    "        <ul>\n",
    "            <li>discard any successor if it is the same as any previously-generated node.</li>\n",
    "        </ul>\n",
    "    </li>\n",
    "    <li>If you want to do something like this for $A^*$ but you want $A^*$ still to be optimal, then:\n",
    "        <ul>\n",
    "            <li>discard either the successor or the previously-generated node &mdash; whichever has the\n",
    "                higher path-cost.\n",
    "            </li>\n",
    "            <li>(Alternatively, discard the successor, as above, but preserve optimality by making sure\n",
    "                your heuristic is not just admissible, but also <em>consistent</em>.)\n",
    "            </li>\n",
    "        </ul>\n",
    "    </li>\n",
    "    <li>Alternatively, don't worry about avoiding re-exploration! Maybe the cost of re-exploration is\n",
    "        less than the cost of checking &amp; discarding.\n",
    "    </li>\n",
    "</ul>"
   ]
  },
  {
   "cell_type": "markdown",
   "metadata": {
    "collapsed": true,
    "slideshow": {
     "slide_type": "slide"
    }
   },
   "source": [
    "<h1>Evaluation</h1>\n",
    "<ul>\n",
    "    <li>Is $A^*$ search complete?</li>\n",
    "    <li>Is $A^*$ search optimal?</li>\n",
    "    <li>What is its time complexity?</li>\n",
    "    <li>What is its space complexity?</li>\n",
    "</ul>"
   ]
  },
  {
   "cell_type": "markdown",
   "metadata": {
    "collapsed": true
   },
   "source": [
    "<h1>Class exercise</h1>\n",
    "<ul>\n",
    "    <li>You are asked to compare two heuristic functions. What would cause you to prefer one over the other?</li>\n",
    "</ul>"
   ]
  },
  {
   "cell_type": "code",
   "execution_count": null,
   "metadata": {
    "collapsed": true
   },
   "outputs": [],
   "source": []
  }
 ],
 "metadata": {
  "celltoolbar": "Slideshow",
  "kernelspec": {
   "display_name": "Python 3 (ipykernel)",
   "language": "python",
   "name": "python3"
  },
  "language_info": {
   "codemirror_mode": {
    "name": "ipython",
    "version": 3
   },
   "file_extension": ".py",
   "mimetype": "text/x-python",
   "name": "python",
   "nbconvert_exporter": "python",
   "pygments_lexer": "ipython3",
   "version": "3.11.4"
  }
 },
 "nbformat": 4,
 "nbformat_minor": 1
}
