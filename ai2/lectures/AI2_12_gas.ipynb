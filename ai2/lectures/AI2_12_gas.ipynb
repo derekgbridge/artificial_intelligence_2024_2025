{
 "cells": [
  {
   "cell_type": "markdown",
   "metadata": {
    "slideshow": {
     "slide_type": "slide"
    }
   },
   "source": [
    "<h1>CS4619: Artificial Intelligence II</h1>\n",
    "<h1>Genetic Algorithms</h1>\n",
    "<h2>\n",
    "    Derek Bridge<br>\n",
    "    School of Computer Science and Information Technology<br>\n",
    "    University College Cork\n",
    "</h2>"
   ]
  },
  {
   "cell_type": "markdown",
   "metadata": {
    "slideshow": {
     "slide_type": "skip"
    }
   },
   "source": [
    "<h1>Initialization</h1>\n",
    "$\\newcommand{\\Set}[1]{\\{#1\\}}$ \n",
    "$\\newcommand{\\Tuple}[1]{\\langle#1\\rangle}$ \n",
    "$\\newcommand{\\v}[1]{\\pmb{#1}}$ \n",
    "$\\newcommand{\\cv}[1]{\\begin{bmatrix}#1\\end{bmatrix}}$ \n",
    "$\\newcommand{\\rv}[1]{[#1]}$ \n",
    "$\\DeclareMathOperator{\\argmax}{arg\\,max}$ \n",
    "$\\DeclareMathOperator{\\argmin}{arg\\,min}$ \n",
    "$\\DeclareMathOperator{\\dist}{dist}$\n",
    "$\\DeclareMathOperator{\\abs}{abs}$"
   ]
  },
  {
   "cell_type": "code",
   "execution_count": 1,
   "metadata": {
    "slideshow": {
     "slide_type": "skip"
    }
   },
   "outputs": [],
   "source": [
    "%reload_ext autoreload\n",
    "%autoreload 2\n",
    "%matplotlib inline"
   ]
  },
  {
   "cell_type": "code",
   "execution_count": 2,
   "metadata": {
    "slideshow": {
     "slide_type": "skip"
    }
   },
   "outputs": [],
   "source": [
    "import pandas as pd\n",
    "import numpy as np\n",
    "import matplotlib.pyplot as plt"
   ]
  },
  {
   "cell_type": "markdown",
   "metadata": {
    "slideshow": {
     "slide_type": "slide"
    }
   },
   "source": [
    "<h1>Evolving Table-Driven Agents</h1>\n",
    "<ul>\n",
    "    <li>Previously, we programmed the agent: by filling in the table.</li>\n",
    "    <li>Today, we will <b>evolve</b> the agent.</li>\n",
    "    <li>To make the problem harder:\n",
    "        <ul>\n",
    "            <li>&hellip;we will now allow all 8 sensors <img src=\"images/eight_sensors.png\" /></li>\n",
    "            <li>&hellip;and 4 actions\n",
    "                <ul>\n",
    "                    <li>MOVE</li>\n",
    "                    <li>TURN(RIGHT, 2)</li>\n",
    "                    <li>TURN(RIGHT, 4)</li>\n",
    "                    <li>TURN(LEFT, 2)</li>\n",
    "                </ul>\n",
    "            </li>\n",
    "        </ul>\n",
    "    </li>\n",
    "</ul>"
   ]
  },
  {
   "cell_type": "markdown",
   "metadata": {
    "slideshow": {
     "slide_type": "slide"
    }
   },
   "source": [
    "<h1>Evolution by Natural Selection</h1>\n",
    "<ul>\n",
    "    <li><b>Inheritance:</b> Individuals inherit characteristics or traits via genes from their parents.</li>\n",
    "    <li><b>Variation:</b> But individuals vary&hellip;\n",
    "        <ul>\n",
    "            <li>&hellip; by combining and mutating inherited genes.</li>\n",
    "        </ul>\n",
    "    </li>\n",
    "    <li><b>Fitness:</b> Individuals who exhibit lower fitness characteristics or traits are selectively eliminated (<i>'survival of the fittest'</i>).</li>\n",
    "</ul>"
   ]
  },
  {
   "cell_type": "markdown",
   "metadata": {},
   "source": [
    "<h1>Genetic Algorithms (GAs)</h1>\n",
    "<ul>\n",
    "    <li>GAs emulate evolution.</li>\n",
    "    <li>They iteratively update a <b>population</b> of <b>individuals</b>.</li>\n",
    "    <li>Each new generation of the population is obtained by probabilistically selecting fitter individuals\n",
    "        from the current generation.\n",
    "        <ul>\n",
    "            <li>Some of these individuals are <b>copied</b> to the next generation unchanged.</li>\n",
    "            <li>Some are subject to <b>crossover</b> to create new offspring.</li>\n",
    "            <li>Some of the new generation undergo <b>mutation</b>.</li>\n",
    "        </ul>\n",
    "    </li>\n",
    "    <li>GAs differ from real-world evolution, e.g. each generation is the same size as the previous one.</li>\n",
    "</ul>"
   ]
  },
  {
   "cell_type": "markdown",
   "metadata": {
    "slideshow": {
     "slide_type": "slide"
    }
   },
   "source": [
    "<h1>A genetic algorithm</h1>\n",
    "<ul>\n",
    "    <li>$n$ is the number of individuals in the population.</li>\n",
    "    <li>$\\chi$ is the proportion of the population to be replaced by crossover, e.g. 0.8.</li>\n",
    "    <li>$\\mu$ is the mutation rate, e.g. 0.01.</li>\n",
    "</ul>\n",
    "<figure style=\"border: 1px solid black; background-color: #D0D0D0\">\n",
    "    <figcaption style=\"border-bottom: 1px solid black\">\n",
    "        GA($n, \\chi, \\mu$)\n",
    "    </figcaption>\n",
    "    <ul>\n",
    "        <li>// Initialise generation 0:<br />\n",
    "            $k = 0$;<br />\n",
    "            $P_k =$ a population of 𝑛 randomly-generated individuals;\n",
    "        </li>\n",
    "        <li>// Evaluate $P_k$:<br />\n",
    "            Compute $\\mathit{fitness}(i)$ for each $i \\in P_k$;\n",
    "        </li>\n",
    "        <li>do {\n",
    "            <ul>\n",
    "                <li>// Create generation $k+1$:<br />\n",
    "                    // 1. Copy:<br />\n",
    "                    Select $(1 - \\chi) \\times n$ members of $P_k$ and insert into $P_{k+1}$;<br />\n",
    "                    // 2. Crossover:<br />\n",
    "                    Select $\\chi \\times n$ members of $P_k$;<br />\n",
    "                    pair them up;<br />\n",
    "                    produce offspring;<br /> \n",
    "                    insert the offspring into $P_{k+1}$;<br />\n",
    "                    // 3. Mutate:<br />\n",
    "                    Select $\\mu \\times n$ members of $P_{k+1}$;<br />\n",
    "                    invert a randomly-selected bit in each;\n",
    "                </li>\n",
    "                <li>// Evaluate $P_{k+1}$:<br />\n",
    "                    Compute $\\mathit{fitness}(i)$ for each $i \\in P_{k+1}$;\n",
    "                </li>\n",
    "                <li>// Increment:<br />\n",
    "                    $k = k + 1$;\n",
    "                </li>\n",
    "            </ul>\n",
    "            } while fitness of fittest individual in $P_k$ is not high enough;\n",
    "        </li>\n",
    "        <li>return the fittest individual from $P_k$;\n",
    "        </li>\n",
    "    </ul>\n",
    "</figure>"
   ]
  },
  {
   "cell_type": "markdown",
   "metadata": {
    "slideshow": {
     "slide_type": "slide"
    }
   },
   "source": [
    "<h1>Representation of individuals</h1>\n",
    "<ul>\n",
    "    <li>Individuals are represented by <em>bit strings</em>.</li>\n",
    "    <li>This requires a way of <b>encoding</b> and <b>decoding</b>.</li>\n",
    "</ul>"
   ]
  },
  {
   "cell_type": "markdown",
   "metadata": {
    "slideshow": {
     "slide_type": "slide"
    }
   },
   "source": [
    "<h1>Encoding/decoding</h1>\n",
    "<ul>\n",
    "    <li>Suppose this is the agent's table:\n",
    "        <table>\n",
    "            <tr><th style=\"border: 1px solid black;\">Percept</th><th style=\"border: 1px solid black;\">Action</th></tr>\n",
    "            <tr><td style=\"border: 1px solid black;\">00000000</td><td style=\"border: 1px solid black;\">MOVE</td></tr>\n",
    "            <tr><td style=\"border: 1px solid black;\">00000001</td><td style=\"border: 1px solid black;\">TURN(LEFT, 2)</td></tr>\n",
    "            <tr><td style=\"border: 1px solid black;\">00000010</td><td style=\"border: 1px solid black;\">TURN(RIGHT, 4)</td></tr>\n",
    "            <tr><td style=\"border: 1px solid black;\">$\\vdots$</td><td style=\"border: 1px solid black;\">$\\vdots$</td></tr>\n",
    "        </table>   \n",
    "    </li>\n",
    "    <li>We can assign unique codes to the actions:\n",
    "        <table>\n",
    "            <tr><th style=\"border: 1px solid black;\">Action</th><th style=\"border: 1px solid black;\">Bit string</th></tr>\n",
    "            <tr><td style=\"border: 1px solid black;\">MOVE</td><td style=\"border: 1px solid black;\">00</td></tr>\n",
    "            <tr><td style=\"border: 1px solid black;\">TURN(RIGHT, 2)</td><td style=\"border: 1px solid black;\">01</td></tr>\n",
    "            <tr><td style=\"border: 1px solid black;\">TURN(RIGHT, 4)</td><td style=\"border: 1px solid black;\">10</td></tr>\n",
    "            <tr><td style=\"border: 1px solid black;\">TURN(LEFT, 2)</td><td style=\"border: 1px solid black;\">11</td></tr>\n",
    "        </table>\n",
    "    <li>We can concatenate all entries in the table to form one long bit string:\n",
    "        <div style=\"text-align: center\">\n",
    "            <span style=\"color: red\">00000000</span><span style=\"color: green\">00</span>\n",
    "            <span style=\"color: red\">00000001</span><span style=\"color: green\">11</span>\n",
    "            <span style=\"color: red\">00000010</span><span style=\"color: green\">10</span>\n",
    "            &hellip;\n",
    "        </div>\n",
    "    </li>\n",
    "    <li>Class exercise: How long will this bit string be?</li>\n",
    "    <li>In fact, we don't need to include the percepts:\n",
    "        <div style=\"text-align: center\">\n",
    "            <span style=\"color: green\">00</span>\n",
    "            <span style=\"color: green\">11</span>\n",
    "            <span style=\"color: green\">10</span>\n",
    "            &hellip;\n",
    "        </div>\n",
    "    </li>\n",
    "    <li>Class exercise: How long will this bit string be now?\n",
    "    <li>Class exercise: How many different bit strings (or tables or agents) are there?</li>\n",
    "</ul>"
   ]
  },
  {
   "cell_type": "markdown",
   "metadata": {
    "slideshow": {
     "slide_type": "slide"
    }
   },
   "source": [
    "<h1>Fitness</h1>\n",
    "<ul>\n",
    "    <li>The GA needs a (task-specific) <b>fitness function</b>.</li>\n",
    "    <li>E.g. place an individual into a room then, of all the cells that it visits, calculate the proportion that \n",
    "        are adjacent to walls.\n",
    "    </li>\n",
    "    <li>Typically, <em>average</em> performance over <em>several tasks</em> is computed.</li>\n",
    "</ul>"
   ]
  },
  {
   "cell_type": "markdown",
   "metadata": {
    "collapsed": true,
    "jupyter": {
     "outputs_hidden": true
    },
    "slideshow": {
     "slide_type": "slide"
    }
   },
   "source": [
    "<h1>Copy</h1>\n",
    "<ul>\n",
    "    <li>How do we select the $(1 - \\chi) \\times n$ individuals who will be copied over?</li>\n",
    "    <li>Obviously, influenced by their fitness, but we don't simply take the <em>fittest</em>.</li>\n",
    "    <li>Instead, it is probabilistic, e.g.:\n",
    "        <ul>\n",
    "            <li><b>Roulette wheel selection</b>:\n",
    "                <ul>\n",
    "                    <li>Probability of selection is equal to relative fitness:\n",
    "                        $$\\mathit{Prob}(\\mathit{choice} = i) = \\frac{\\mathit{fitness}(i)}{\\sum_{j=1}^n \\mathit{fitness}(j)}$$\n",
    "                    </li>\n",
    "                </ul>\n",
    "\t\t\t</li>\n",
    "            <li><b>Rank selection</b>:\n",
    "                <ul>\n",
    "                    <li>Probability of selection is inversely proportional to position in the population after sorting \n",
    "                        by fitness.\n",
    "                    </li>\n",
    "                </ul>\n",
    "            </li>\n",
    "            <li><b>Tournament selection</b>:\n",
    "                <ul>\n",
    "                    <li>Repeatedly, select a random subset of the population and chose the fittest in this subset.</li>\n",
    "                </ul>\n",
    "            </li>\n",
    "        </ul>\n",
    "    </li>\n",
    "    <li>Selection is usually done <em>with replacement</em>: an individual can be picked more than once.</li>\n",
    "</ul>"
   ]
  },
  {
   "cell_type": "markdown",
   "metadata": {
    "slideshow": {
     "slide_type": "slide"
    }
   },
   "source": [
    "<h1>Crossover</h1>\n",
    "<ul>\n",
    "    <li>In crossover:\n",
    "        <ul>\n",
    "            <li>Select $\\chi \\times n$ individuals.\n",
    "                <ul>\n",
    "                    <li>How? By roulette wheel, rank or tournament selection.</li>\n",
    "                </ul>\n",
    "            </li>\n",
    "            <li>Pair them up, giving $(\\chi \\times n)/2$ pairs.</li>\n",
    "            <li>Swap a random portion of the father with a random portion of the mother, giving two new offspring.</li>\n",
    "        </ul>\n",
    "    </li>\n",
    "    <li>The offspring may or may not be fitter than their parents:\n",
    "        <ul>\n",
    "            <li>We hope roulette wheel/rank/tournament seletion has chosen reasonably fit parents, and the offspring\n",
    "                might have some fitness advantage by incorporating parts of these parents.\n",
    "            </li>\n",
    "            <li>On the other hand, no guarantees!</li>\n",
    "        </ul>\n",
    "    </li>\n",
    "    <li><b>Single-point crossover</b>: choose a random position and swap.</li>\n",
    "    <li>(There are other forms of crossover, e.g. two-point crossover, uniform crossover &mdash; not covered in\n",
    "        CS4619.)\n",
    "    </li>\n",
    "</ul>"
   ]
  },
  {
   "cell_type": "markdown",
   "metadata": {
    "slideshow": {
     "slide_type": "slide"
    }
   },
   "source": [
    "<h1>Single-point crossover</h1>\n",
    "<figure>\n",
    "    <img src=\"images/crossover1.png\" />\n",
    "</figure>"
   ]
  },
  {
   "cell_type": "markdown",
   "metadata": {
    "slideshow": {
     "slide_type": "slide"
    }
   },
   "source": [
    "<h1>Efficient single-point crossover</h1>\n",
    "<ul>\n",
    "    <li>Generate two masks, e.g.:\n",
    "        $$\\mathit{mask}_1: 11111100000$$\n",
    "        $$\\mathit{mask}_2: 00000011111$$\n",
    "    </li>\n",
    "    <li>Then<br />\n",
    "        $$\\mathit{offspring}_1 = (\\mathit{parent}_1 \\land \\mathit{mask}_1) \\vee (\\mathit{parent}_2 \\land \\mathit{mask}_2)$$\n",
    "        $$\\mathit{offspring}_2 = (\\mathit{parent}_1 \\land \\mathit{mask}_2) \\vee (\\mathit{parent}_2 \\land \\mathit{mask}_1)$$\n",
    "    </li>\n",
    "</ul>"
   ]
  },
  {
   "cell_type": "markdown",
   "metadata": {
    "slideshow": {
     "slide_type": "slide"
    }
   },
   "source": [
    "<h1>Example of efficient single-point crossover</h1>\n",
    "<figure>\n",
    "    <img src=\"images/crossover4.png\" />\n",
    "</figure>"
   ]
  },
  {
   "cell_type": "markdown",
   "metadata": {
    "slideshow": {
     "slide_type": "slide"
    }
   },
   "source": [
    "<h1>Mutate</h1>\n",
    "<ul>\n",
    "    <li>Select $\\mu \\times n$ individuals from the <em>new</em> generation.\n",
    "        <ul>\n",
    "            <li>How? Random with <em>uniform</em> probability, not by fitness.</li>\n",
    "        </ul>\n",
    "    </li>\n",
    "    <li>For each selected individual, a bit is chosen at random and this bit is inverted.</li>\n",
    "    <li>E.g. <img src=\"images/mutation1.png\" /></li>\n",
    "</ul>"
   ]
  },
  {
   "cell_type": "markdown",
   "metadata": {
    "slideshow": {
     "slide_type": "slide"
    }
   },
   "source": [
    "<h1>Efficient mutation</h1>\n",
    "<ul>\n",
    "    <li>Generate a mask, e.g.:\n",
    "        $$\\mathit{mask}: 00000010000$$\n",
    "    </li>\n",
    "    <li>Then\n",
    "        $$\\mathit{new individual} = \\mathit{individual} \\oplus \\mathit{mask}$$\n",
    "        where $\\oplus$ is exclusive-or.\n",
    "    </li>\n",
    "    <li>E.g. <img src=\"images/mutation2.png\" />\n",
    "    </li>\n",
    "</ul>"
   ]
  },
  {
   "cell_type": "markdown",
   "metadata": {
    "slideshow": {
     "slide_type": "slide"
    }
   },
   "source": [
    "<h1>Discussion</h1>\n",
    "<ul>\n",
    "    <li>There’s a risk of <b>crowding</b>:\n",
    "        <ul>\n",
    "            <li>This is where a fit individual reproduces a lot and it (or minor variants of it) dominate the population.</li>\n",
    "            <li>It results in a lack of diversity and possible stagnation.</li>\n",
    "        </ul>\n",
    "    </li>\n",
    "    <li>How to overcome crowding:\n",
    "        <ul>\n",
    "            <li>Mutation;</li>\n",
    "            <li>Rank selection or tournament selection;</li>\n",
    "            <li>&hellip;</li>\n",
    "        </ul>\n",
    "    </li>\n",
    "</ul>"
   ]
  },
  {
   "cell_type": "markdown",
   "metadata": {
    "slideshow": {
     "slide_type": "slide"
    }
   },
   "source": [
    "<h1>Applications</h1>\n",
    "<ul>\n",
    "    <li>GAs have been used to evolve:\n",
    "        <ul>\n",
    "            <li>Digital circuits</li>\n",
    "            <li>Factory schedules</li>\n",
    "            <li>University timetables</li>\n",
    "            <li>Traffic signal policies</li>\n",
    "            <li>Neural network architectures</li>\n",
    "            <li>Similarity measures</li>\n",
    "            <li>&hellip;</li>\n",
    "        </ul>\n",
    "    </li>\n",
    "    <li>Lecture discussion: How would we do university timetabling using a GA? Are there difficulties?\n",
    "</ul>"
   ]
  },
  {
   "cell_type": "code",
   "execution_count": null,
   "metadata": {
    "collapsed": true,
    "jupyter": {
     "outputs_hidden": true
    }
   },
   "outputs": [],
   "source": []
  }
 ],
 "metadata": {
  "celltoolbar": "Slideshow",
  "kernelspec": {
   "display_name": "Python 3 (ipykernel)",
   "language": "python",
   "name": "python3"
  },
  "language_info": {
   "codemirror_mode": {
    "name": "ipython",
    "version": 3
   },
   "file_extension": ".py",
   "mimetype": "text/x-python",
   "name": "python",
   "nbconvert_exporter": "python",
   "pygments_lexer": "ipython3",
   "version": "3.12.4"
  }
 },
 "nbformat": 4,
 "nbformat_minor": 4
}
