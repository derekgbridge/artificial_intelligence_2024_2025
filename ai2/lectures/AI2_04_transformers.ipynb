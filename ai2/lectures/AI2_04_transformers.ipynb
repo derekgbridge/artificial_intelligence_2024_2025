{
 "cells": [
  {
   "cell_type": "markdown",
   "id": "e8b4c0ae",
   "metadata": {},
   "source": [
    "<h1>CS4619: Artificial Intelligence II</h1>\n",
    "<h1>Transformers</h1>\n",
    "<h2>\n",
    "    Derek Bridge<br>\n",
    "    School of Computer Science and Information Technology<br>\n",
    "    University College Cork\n",
    "</h2>\n",
    "$\\newcommand{\\Set}[1]{\\{#1\\}}$ \n",
    "$\\newcommand{\\Tuple}[1]{\\langle#1\\rangle}$ \n",
    "$\\newcommand{\\v}[1]{\\pmb{#1}}$ \n",
    "$\\newcommand{\\cv}[1]{\\begin{bmatrix}#1\\end{bmatrix}}$ \n",
    "$\\newcommand{\\rv}[1]{[#1]}$ \n",
    "$\\DeclareMathOperator{\\argmax}{arg\\,max}$ \n",
    "$\\DeclareMathOperator{\\argmin}{arg\\,min}$ \n",
    "$\\DeclareMathOperator{\\dist}{dist}$\n",
    "$\\DeclareMathOperator{\\abs}{abs}$"
   ]
  },
  {
   "cell_type": "code",
   "execution_count": 1,
   "id": "a5597db6",
   "metadata": {},
   "outputs": [],
   "source": [
    "%load_ext autoreload\n",
    "%autoreload 2\n",
    "%matplotlib inline"
   ]
  },
  {
   "cell_type": "code",
   "execution_count": 2,
   "id": "56496cd3",
   "metadata": {},
   "outputs": [],
   "source": [
    "import pandas as pd\n",
    "import numpy as np\n",
    "import matplotlib.pyplot as plt\n",
    "\n",
    "from sklearn.preprocessing import LabelEncoder\n",
    "\n",
    "from tensorflow.keras import Input\n",
    "from tensorflow.keras import Model\n",
    "from tensorflow.keras.layers import Dense\n",
    "from tensorflow.keras.layers import TextVectorization\n",
    "from tensorflow.keras.layers import Embedding\n",
    "from tensorflow.keras.layers import GlobalAveragePooling1D\n",
    "from tensorflow.keras.layers import MultiHeadAttention\n",
    "from tensorflow.keras.layers import LayerNormalization\n",
    "from tensorflow.keras.layers import add\n",
    "\n",
    "from tensorflow.keras.optimizers import RMSprop\n",
    "\n",
    "from tensorflow.keras.callbacks import EarlyStopping\n",
    "\n",
    "from tensorflow.keras.initializers import Constant\n",
    "\n",
    "from tensorflow import convert_to_tensor, string"
   ]
  },
  {
   "cell_type": "code",
   "execution_count": 3,
   "id": "f73e91f3-4e51-4e96-9fa1-52624e99570b",
   "metadata": {},
   "outputs": [],
   "source": [
    "import os\n",
    "if 'google.colab' in str(get_ipython()):\n",
    "  from google.colab import drive\n",
    "  drive.mount('/content/drive')\n",
    "  base_dir = \"./drive/My Drive/Colab Notebooks/\" # You may need to change this, depending on where your notebooks are on Google Drive\n",
    "else:\n",
    "  base_dir = \".\" "
   ]
  },
  {
   "cell_type": "code",
   "execution_count": 4,
   "id": "c25d749a",
   "metadata": {},
   "outputs": [],
   "source": [
    "df = pd.read_csv(\"../datasets/dataset_5000_reviews.csv\")"
   ]
  },
  {
   "cell_type": "code",
   "execution_count": 5,
   "id": "24cbbf92",
   "metadata": {},
   "outputs": [],
   "source": [
    "# Train/test split\n",
    "split_point = int(len(df) * 0.8)\n",
    "dev_X = df[\"review\"][:split_point]\n",
    "test_X = df[\"review\"][split_point:] \n",
    "\n",
    "# Target values, encoded and converted to a 1D numpy array\n",
    "label_encoder = LabelEncoder()\n",
    "label_encoder.fit(df[\"sentiment\"])\n",
    "dev_y = label_encoder.transform(df[\"sentiment\"][:split_point])\n",
    "test_y = label_encoder.transform(df[\"sentiment\"][split_point:])"
   ]
  },
  {
   "cell_type": "code",
   "execution_count": 6,
   "id": "7eed736f",
   "metadata": {},
   "outputs": [],
   "source": [
    "max_tokens = 20000\n",
    "max_length = 200"
   ]
  },
  {
   "cell_type": "code",
   "execution_count": 7,
   "id": "812a9dac",
   "metadata": {},
   "outputs": [],
   "source": [
    "# Create the count vectorization layer, and call adapt on the text-only dataset to create the vocabulary.\n",
    "vectorization_layer = TextVectorization(output_mode=\"int\", max_tokens=max_tokens, output_sequence_length=max_length)\n",
    "vectorization_layer.adapt(convert_to_tensor(dev_X))"
   ]
  },
  {
   "cell_type": "code",
   "execution_count": 8,
   "id": "93e72ff0",
   "metadata": {},
   "outputs": [],
   "source": [
    "vocabulary = vectorization_layer.get_vocabulary()"
   ]
  },
  {
   "cell_type": "code",
   "execution_count": 9,
   "id": "fc8d2535",
   "metadata": {},
   "outputs": [],
   "source": [
    "word_index = dict(zip(vocabulary, range(len(vocabulary))))"
   ]
  },
  {
   "cell_type": "code",
   "execution_count": 10,
   "id": "a26f037a",
   "metadata": {},
   "outputs": [],
   "source": [
    "# Throughout the code, we will use 100-dimensional word embeddings (including the pretrained GloVe embeddings later)\n",
    "embedding_dimension = 100"
   ]
  },
  {
   "cell_type": "code",
   "execution_count": 11,
   "id": "549265d0",
   "metadata": {},
   "outputs": [],
   "source": [
    "# Parse the GloVe word embeddings file: produces a dictionary from words to their vectors\n",
    "\n",
    "path = \"../datasets/glove.6B.100d.txt\" # Edit this to point to your copy of the file\n",
    "\n",
    "embeddings_index = {}\n",
    "f = open(path)\n",
    "for line in f:\n",
    "    word, coefs = line.split(maxsplit=1)\n",
    "    coefs = np.fromstring(coefs, \"f\", sep=\" \")\n",
    "    embeddings_index[word] = coefs\n",
    "f.close()"
   ]
  },
  {
   "cell_type": "code",
   "execution_count": 12,
   "id": "3f2eb343",
   "metadata": {},
   "outputs": [],
   "source": [
    "# Create a matrix that associates the words that we obtained from the IMDB reviews earlier \n",
    "# (in the vocabulary) with their GloVe word embeddings\n",
    "\n",
    "embedding_matrix = np.zeros((max_tokens, embedding_dimension)) \n",
    "for word, i in word_index.items():\n",
    "    if i < max_tokens:\n",
    "        word_embedding = embeddings_index.get(word)\n",
    "        if word_embedding is not None:\n",
    "            embedding_matrix[i] = word_embedding"
   ]
  },
  {
   "cell_type": "markdown",
   "id": "4dfed28a",
   "metadata": {},
   "source": [
    "<h1>Acknowledgements</h1>\n",
    "<ul>\n",
    "    <li>A few of the examples owe a debt to Chollet's book (2nd edition). The table also comes from Chollet's book.\n",
    "    </li>\n",
    "    <li>The colourful diagrams are my own invention but were improved by seeing similar diagrams in materials produced by Sebastian Raschka.</li>\n",
    "</ul>"
   ]
  },
  {
   "cell_type": "markdown",
   "id": "1fb62a8c",
   "metadata": {},
   "source": [
    "<h1>Introduction</h1>\n",
    "<ul>\n",
    "    <li>We have learned a little about recurrent neural networks (RNNs) and their applications in natural language processing (NLP).</li>\n",
    "    <li>There have been many improvements to RNNs, such as beam search, bidirectional RNNs and attention mechanisms.</li>\n",
    "    <li>But a new architecture has emerged that often outperforms RNNs: the <b>transformer</b> architecture.\n",
    "        <ul>\n",
    "            <li>Ashish Vaswani et al: <i>Attention is all you need.</i> In Proceedings of the 31st International Conference on Neural Information Processing Systems, 2017. (<a href=\"https://arxiv.org/abs/1706.03762\">https://arxiv.org/abs/1706.03762</a>) \n",
    "        </ul>\n",
    "    </li>\n",
    "    <li>Transformers typically use <b>self-attention</b> (see below).</li>\n",
    "    <li>They do not contain any mechanisms for processing input sequentially: no recurrent layers, no 1D-convolutional layers, &hellip; They receive the input sequence all in one go.</li>\n",
    "</ul>"
   ]
  },
  {
   "cell_type": "markdown",
   "id": "b5f3f149",
   "metadata": {},
   "source": [
    "<h1>Self-Attention</h1>\n",
    "<ul>\n",
    "    <li>The idea of self-attention is to model the dependencies between elements of the input sequence.\n",
    "        <ul>\n",
    "            <li>Indeed, the self-attention mechanism enables a transformer to capture <em>long-range</em> dependencies between elements of the input sequence.</li>\n",
    "            <li>Recall that this was something that caused difficulties for RNNs. Even using LSTMs and GRUs, which were developed to help overcome these difficulties, the problem still remained. \n",
    "        </ul>\n",
    "    </li>\n",
    "    <li>Consider a word such as ``date''. We have a single word embedding for this word: a vector of numbers. But this word is ambiguous. Its meaning is context-specific: other words that surround it affect its meaning. Consider:\n",
    "        <ul>\n",
    "            <li>``I marked the date of the seminar in my calendar.''</li>\n",
    "            <li>``I enjoyed our date together.''</li>\n",
    "            <li>``The date seller was not at the market today.''</li>\n",
    "        </ul>\n",
    "    </li>\n",
    "    <li>The idea in self-attention (roughly speaking) is to modify the word embedding based on the word embeddings of the surrounding words.</li>\n",
    "</ul>"
   ]
  },
  {
   "cell_type": "markdown",
   "id": "642713e5",
   "metadata": {},
   "source": [
    "<h2>A Simple Form of Self-Attention</h2>\n",
    "<ul>\n",
    "    <li>We start with a simple form of self-attention. Then later we make it more complicated.</li>\n",
    "    <li>Assume we have an input sentence and we compute the word embedding for each word in that input sentence: $\\v{x}_{(1)}, \\v{x}_{(2)}, \\ldots, \\v{x}_{(\\mathit{max\\_length})}$. Below, as before, for simplicity of exposition, I will often write ``word'' when strictly I should write ``word embedding''.\n",
    "    <li>In overview, we do the following for each word $\\v{x}_{(i)}$ in the input sequence:\n",
    "        <ul>\n",
    "            <li>Compute attention weights $\\alpha_{ij}$: simply, each weight is the similarity (dot product) between word $\\v{x}_{(i)}$ and every word $\\v{x}_{(j)}$ for $j=1\\ldots\\mathit{max\\_length}$ in the input sequence.\n",
    "                $$\\alpha_{ij} = \\v{x}_{(i)}\\v{x}_{(j)}$$\n",
    "                (So, if you like, $\\alpha_{ij}$ is the relevance of word $j$ to word $i$.)<br />\n",
    "                Note that these 'weights' are calculated; they are not learned. \n",
    "            </li>\n",
    "            <li>Normalise the weights: for this, we use softmax.</li>\n",
    "            <li>Compute a context-aware embedding $\\v{z}_{(i)}$ for $\\v{x}_{(i)}$: the weighted sum of all the word embeddings in the input sequence.\n",
    "                $$\\v{z}_{(i)} = \\sum_{j=1}^{\\mathit{max\\_length}} \\alpha_{ij}\\v{x}_{(j)}$$\n",
    "            </li>\n",
    "        </ul>\n",
    "    </li>\n",
    "</ul>"
   ]
  },
  {
   "cell_type": "markdown",
   "id": "6e138d53",
   "metadata": {},
   "source": [
    "<h3>Example</h3>\n",
    "<ul>\n",
    "    <li>Suppose the input sequence is ``the train left the station on time''.</li>\n",
    "    <li>We get the word embeddings for each word.</li>\n",
    "    <li>Suppose the current word is word 5: ``station''.</li>\n",
    "    <li>We compute the similarities (dot products) between the word embedding for ``station'' and the word embeddings for all the words in the input sentence. Suppose this gives the following:\n",
    "        $$\\cv{0.2\\\\0.8\\\\0.6\\\\0.2\\\\1.0\\\\0.2\\\\0.3}$$\n",
    "        So the similarity between ``train'' and ``station'', for example, is 0.8. Why do we have a 1.0 in there?\n",
    "    </li>\n",
    "    <li>Then we normalize using softmax to obtain (roughly):\n",
    "        $$\\cv{0.10\\\\0.19\\\\0.15\\\\0.10\\\\0.23\\\\0.10\\\\0.11}$$\n",
    "    </li>\n",
    "    <li>Finally, the context-aware embedding for ``station'' is the weighted sum of the word embeddings:\n",
    "        $$\\v{z}_{(5)} = \\mathit{sum}\\left(\\cv{\n",
    "        0.10 \\times \\v{x}_{(1)}\\\\\n",
    "        0.19 \\times \\v{x}_{(2)}\\\\\n",
    "        0.15 \\times \\v{x}_{(3)}\\\\\n",
    "        0.10 \\times \\v{x}_{(4)}\\\\\n",
    "        0.23 \\times \\v{x}_{(5)}\\\\\n",
    "        0.10 \\times \\v{x}_{(6)}\\\\\n",
    "        0.11 \\times \\v{x}_{(7)}}\\right)$$\n",
    "    </li>\n",
    "    <li>You can see that now we have an embedding for ``station'' that has been modified by its context, i.e. by the other words in the sentence.</li>\n",
    "</ul>"
   ]
  },
  {
   "cell_type": "markdown",
   "id": "524c0934",
   "metadata": {},
   "source": [
    "<h3>Vectorization</h3>\n",
    "<ul>\n",
    "    <li>Above, we saw the calculations for one of the words (``station'').</li>\n",
    "    <li>But, we don't need to do this one word at a time.</li>\n",
    "    <li>We can vectorize:\n",
    "        <ul>\n",
    "            <li>Put the word embeddings into a matrix $\\v{X}$. E.g. if there are 7 words and the word embedding dimension is 100, then $\\v{X}$ is a $7 \\times 100$ matrix.\n",
    "            <li>Compute the similarities $\\v{A}$ between all pairs of words by multiplying $\\v{X}$ with itself (acutally with its transpose). In the example, this would give a $7 \\times 7$ matrix.</li>\n",
    "            <li>Normalize each column of the similarity matrix $\\v{A}$ using softmax.</li>\n",
    "            <li>Compute the context-aware vectors for all the words in the input sentence using a matrix multiplication between the normalized similarity matrix and a matrix of the word embeddings:\n",
    "                $$\\v{Z} = \\v{A}\\v{X}$$\n",
    "            </li>\n",
    "        </ul>\n",
    "    </li>\n",
    "</ul>"
   ]
  },
  {
   "cell_type": "markdown",
   "id": "4acc6498",
   "metadata": {},
   "source": [
    "<img src=\"images/self_attention1.png\" />"
   ]
  },
  {
   "cell_type": "markdown",
   "id": "b3a3a8a0",
   "metadata": {},
   "source": [
    "<h2>A More Advanced Form of Self-Attention</h2>\n",
    "<ul>\n",
    "    <li>The simple form of self-attention that we studied above does not have any learnable parameters.</li>\n",
    "    <li>We introduce three additional weight matrices, $\\v{U}_q$, $\\v{U}_k$ and $\\v{U}_v$.\n",
    "        <ul>\n",
    "            <li>They are initialized at random, and then modified during back-prop.<br />\n",
    "                Note that these weights are learned &mdash; unlike the ones in $\\v{A}$.</li>\n",
    "            <li>Let the embedding dimension of the word embeddings be $d$. Then, it is common for $\\v{U}_q$, $\\v{U}_k$ and $\\v{U}_v$ to be $d \\times d$ matrices. And this is what we will assume in our presentation here.</li>\n",
    "            <li>(Advanced, ignore: more generally, we can choose values $d_k$ and $d_v$ and then $\\v{U}_q$ and $\\v{U}_k$ can be $d_k \\times d$, and $\\v{U}_v$ can be $d_v \\times d$.)</li>\n",
    "        </ul>\n",
    "    </li>\n",
    "    <li>How do we use these weight matrices?\n",
    "        <ul>\n",
    "            <li>We multiply the word embeddings $\\v{x}_{(i)}$ by each of the matrices:\n",
    "                $$\\v{q}_{(i)} = \\v{U}_q\\v{x}_{(i)}$$\n",
    "                $$\\v{k}_{(i)} = \\v{U}_k\\v{x}_{(i)}$$\n",
    "                $$\\v{v}_{(i)} = \\v{U}_v\\v{x}_{(i)}$$\n",
    "            </li>\n",
    "            <li>Previously, we computed the weights as the similarity (dot product) of the word embeddings: $\\alpha_{ij} = \\v{x}_{(i)}\\v{x}_{(j)}$. But, now:\n",
    "                $$\\alpha_{ij} = \\v{q}_{(i)}\\v{k}_{(j)}$$\n",
    "            </li>\n",
    "            <li>Then, we normalise the weights, as before: softmax. (Advanced, ignore: In fact, in transformers, we scale the weights by multiplying them by $1/\\sqrt{d}$ before we take the softmax. This gives a 'smoother' softmax distrbution.)</li>\n",
    "            <li>Finally, we compute a context-aware embedding. Previously, we computed a weighted sum: $\\v{z}_{(i)} = \\sum_{j=1}^{\\mathit{max\\_length}} \\alpha_{ij}\\v{x}_{(j)}$. But, now:\n",
    "              $$\\v{z}_{(i)} = \\sum_{j=1}^{\\mathit{max\\_length}} \\alpha_{ij}\\v{v}_{(j)}$$\n",
    "            </li>\n",
    "        </ul>\n",
    "    </li>\n",
    "</ul>"
   ]
  },
  {
   "cell_type": "markdown",
   "id": "49e9159e",
   "metadata": {},
   "source": [
    "<img src=\"images/self_attention2.png\" />"
   ]
  },
  {
   "cell_type": "markdown",
   "id": "07926628",
   "metadata": {},
   "source": [
    "<h3>Query, key and value</h3>\n",
    "<ul>\n",
    "    <li>For each word, we computed three vectors, $\\v{q}_{(i)}$, $\\v{k}_{(i)}$ and $\\v{v}_{(i)}$.</li>\n",
    "    <li>People refer to these three as the <b>query</b>, <b>key</b> and <b>value</b> vectors.</li>\n",
    "    <li>Why? The inventors of transformers needed three names. They hijacked three names from the field of non-relational databases. In a non-relational database, we enter a query, it is matched against a key, and a value is retrieved. If we are being charitable, we can see that in transformers query vectors are matched with key vectors when we compute similarities, and value vectors are part of the final result. So there is a tenuous connection.</li>\n",
    "     <li>For me, these names are unhelpful. They might just as well have called them Huey, Dewey and Louie in honour of Donald Duck's nephews!\n",
    "    </li>\n",
    "    <li>(Advanced, ignore: Above, we used $\\v{x}_{(i)}$ for calculating the query, key and value. This is what we do for sequence classification, e.g. for sentiment analysis. But, in fact, you could use a different vector for each. For example, in machine translation between English and French, a training example will have both an English sentence and a French sentence. You might use French words when computing the query, and English words when computing the keys and values. If you do this, then you are no longer really doing <em>self</em>-attention.)</li>\n",
    "</ul>"
   ]
  },
  {
   "cell_type": "markdown",
   "id": "c6b3d632",
   "metadata": {},
   "source": [
    "<h2>Multi-Head Attention</h2>\n",
    "<ul>\n",
    "    <li>Let's refer to the three matrices $\\v{U}_q$, $\\v{U}_k$ and $\\v{U}_v$ as a <b>head</b>. Then, what we have described is a transformer that has a single head.</li>\n",
    "    <li>But transformers use multi-head attention: they use multiple heads. In other words, if we have $h$ heads then we have $h$ sets of these matrices:\n",
    "        <ul>\n",
    "            <li>$\\v{U}_{q_1}$, $\\v{U}_{k_1}$, $\\v{U}_{v_1}$</li>\n",
    "            <li>$\\v{U}_{q_2}$, $\\v{U}_{k_2}$, $\\v{U}_{v_2}$</li>\n",
    "            <li>&hellip;</li>\n",
    "            <li>$\\v{U}_{q_h}$, $\\v{U}_{k_h}$, $\\v{U}_{v_h}$</li>\n",
    "        </ul>\n",
    "    </li>\n",
    "    <li>Now, instead of computing one query vector, key vector and value vector per word, we compute $h$ of them.</li>\n",
    "    <li>Why do we want multiple heads? It gives the transformer more parameters and an opportunity to learn $h$ different representations. It's a bit like why we have multiple feature maps in a convolutional layer.\n",
    "        <figure style=\"text-align: center;\">\n",
    "            <img src=\"images/attention_examples.png\" />\n",
    "            <figcaption>Evidence that different heads learn to perform different tasks.<br />\n",
    "                Taken from the <i>Attention is all you need</i> paper\n",
    "            </figcaption>\n",
    "        </figure>\n",
    "    </li>\n",
    "    <li>(Advanced, ignore: In fact, instead of having $h$ sets of matrices, we combine them into just 3 matrices and use Boolean masks to access regions of the matrices. This improves efficiency: it means we can use just one matrix multiplication instead of $h$ matrix multiplications.)</li>\n",
    "    <li>The outputs of the multiple heads are concatenated.</li>\n",
    "</ul>"
   ]
  },
  {
   "cell_type": "markdown",
   "id": "efa40ab4",
   "metadata": {},
   "source": [
    "<figure style=\"text-align: center;\">\n",
    "    <img src=\"images/multi_head_attention.png\" />\n",
    "    <figcaption>Taken from the <i>Attention is all you need</i> paper<br />\n",
    "        (Linear = Dense layers)<br />\n",
    "        (The optional Mask allows you to build transformers where attention is constrained, e.g. to previous words, instead of all words)\n",
    "    </figcaption>\n",
    "</figure>"
   ]
  },
  {
   "cell_type": "markdown",
   "id": "f07fccbb",
   "metadata": {},
   "source": [
    "<h2>Positional Encoding</h2>\n",
    "<h3>Sets, not sequences</h3>\n",
    "<ul>\n",
    "    <li>Self-attention is a <em>set</em>-processing mechanism, not a <em>sequence</em>-processing mechanism.\n",
    "        <ul>\n",
    "            <li>We did not feed in an input sentence $\\v{x}_{(1)}, \\v{x}_{(2)}, \\ldots, \\v{x}_{(\\mathit{max\\_length})}$ one word at a time.</li>\n",
    "            <li>We treated the input sentence as a matrix, where each row of the matrix is one element of the input sequence.\n",
    "                And the whole matrix is fed in as a single input in one go.\n",
    "            </li>\n",
    "            <li>This is great for parallelization (although we should acknowledge that transformers are quite expensive to train, even when parallelized).</li>\n",
    "            <li>But it means that the input is now a set (a set of rows), not a sequence!\n",
    "                <ul>\n",
    "                    <li>You could shuffle the rows and it will make no difference: you will calculate the same pairwise similarities and the same context-aware representations.\n",
    "                </ul>\n",
    "            </li>\n",
    "        </ul>\n",
    "    </li>\n",
    "    <li>We don't want this! We have lost word ordering. It makes ``Dogs hate cats'' no different from ``Cats hate dogs'' &mdash; both are sets (matrices) containing the word embeddings for ``cats'', ``dogs'' and ``hates''.\n",
    "    </li>\n",
    "    <li>Transformers need an extra mechanism to re-inject word ordering information.\n",
    "        <table>\n",
    "            <tr><th></th><th>Word order awareness</th><th>Context-awareness</th></tr>\n",
    "            <tr><th>Bag-of-words (unigrams)</th><td>No</td><td>No</td></tr>\n",
    "            <tr><th>Bag-of-words (bigrams)</th><td>Very limited</td><td>No</td></tr>\n",
    "            <tr><th>RNN</th><td>Yes</td><td>No</td></tr>\n",
    "            <tr><th>Self-attention</th><td>No</td><td>Yes</td></tr>\n",
    "            <tr><th>Transformer</th><td>Yes</td><td>Yes</td></tr>\n",
    "        </table>\n",
    "    </li>\n",
    "</ul>"
   ]
  },
  {
   "cell_type": "markdown",
   "id": "9b9c0b87",
   "metadata": {},
   "source": [
    "<h3>Re-injecting word order information</h3>\n",
    "<ul>\n",
    "    <li>To re-inject word order information, we will include the word's position in the input sentence in each word embedding. Let's consider three ways of doing this.</li>\n",
    "    <li>Simple: Concatenate the word position to the word embedding. \n",
    "        <ul>\n",
    "            <li>Concatenate 0 to the word embedding of the first word.</li>\n",
    "            <li>Concatenate 1 to the word embedding of the second word.</li>\n",
    "            <li>And so on.</li>\n",
    "        </ul>\n",
    "        This is not ideal: these integers would dominate the values in the word embeddings, making the word embeddings themselves negligble.\n",
    "    </li>\n",
    "    <li>The original transformer: Add the sine and/or cosine of the position.\n",
    "        <ul>\n",
    "            <li>This means you add values in the range $[-1, 1]$</li>\n",
    "            <li>The values vary cyclically.</li>\n",
    "        </ul>\n",
    "    </li>\n",
    "    <li>Positional embedding: learn an embedding of the position.\n",
    "        <ul>\n",
    "            <li>We know that an embedding layer maps from a word index (i.e. its index in the vocabulary) to a $d$-dimensional vector.</li>\n",
    "            <li>So why not use another embedding layer to map from word positions (i.e. where a word is in the sentence) to another $d$-dimensional vector.</li>\n",
    "            <li>Then add the word embedding and the positional embedding.</li>\n",
    "        </ul>\n",
    "    </li>\n",
    "</ul>"
   ]
  },
  {
   "cell_type": "markdown",
   "id": "b55f8806",
   "metadata": {},
   "source": [
    "<h2>Transformers</h2>\n",
    "<ul>\n",
    "    <li>Transformers put all these ideas together with others. Details unimportant in CS4619.\n",
    "        <ul>\n",
    "            <li>They add some dense layers.</li>\n",
    "            <li>They add some skip links (see the final lecture of AI1 to remind yourself what these are).</li>\n",
    "            <li>They add layer normalization. Layer normalization is similar to, but different from batch normalization. Batch normalization computes means and standard deviatons from all examples in a mini-batch, but this does not work well for sequence data. Instead, layer normalization normalizes each input sequence independently from the others. In other words, it computes means and standard deviations from all inputs in each sequence.</li>\n",
    "        </ul>\n",
    "    </li>\n",
    "    <li>Here is the diagram from the original paper:\n",
    "        <figure style=\"text-align: center;\">\n",
    "            <img src=\"images/transformer_encoder.png\" />\n",
    "        </figure>\n",
    "        They used 8 heads and a stack of 6 of these layers. \n",
    "    </li>\n",
    "    <li>In fact, what we have discussed so far (and the diagram) is just the transformer encoder. You'll then want more layers to do your task.\n",
    "        <ul>\n",
    "            <li>E.g. for sentiment analysis (negative/positive, or negative/neutral/positive), you want a final dense layer containing two or three neurons as your output layer.</li>\n",
    "            <li>E.g. for sequence-to-sequence tasks, such as Machine Translation, code completion or question-answering, then you will want to connect your transformer encoder to a transformer decoder.</li>\n",
    "        </ul>\n",
    "    </li>\n",
    "</ul>"
   ]
  },
  {
   "cell_type": "markdown",
   "id": "3fcdf86f-9aee-4021-92e8-be54e23b756e",
   "metadata": {},
   "source": [
    "<h1>IMDB Reviews, One More Time</h1>\n",
    "<ul>\n",
    "    <li>I have implemented the transformer architecture using Keras's <code>MultiHeadAttention</code> layer.</li>\n",
    "    <li>Question: Looking at the code, how did I achieve <em>self</em>-attention?</li>\n",
    "    <li>Initially, I included positional embedding using Keras NLP's <code>PositionEmbedding</code> layer.\n",
    "        <ul>\n",
    "            <li>If you want to run the code with positional embedding, you need to install keras-nlp (see the next cell of this notebook), import <code>keras_nlp.layers.PositionEmbedding</code>, and uncomment the positional embedding layer. \n",
    "            </li>\n",
    "        </ul>\n",
    "    </li>\n",
    "    <li>In fact, for this dataset, accuracy is substantially higher without the positional embedding.\n",
    "        <ul>\n",
    "            <li>Perhaps the dataset is too small. In any case, it's not wholly surprising since bag-of-words, which also ignores positions, does well on this dataset.</li>\n",
    "            <li>Hence, I have commented out that layer.</li>\n",
    "        </ul>\n",
    "    </li>\n",
    "</ul>"
   ]
  },
  {
   "cell_type": "code",
   "execution_count": 13,
   "id": "7ecbce39",
   "metadata": {},
   "outputs": [],
   "source": [
    "# If you want to try the code with the positional embedding layer then make sure you have installed keras-nlp.\n",
    "# Then, include the following import in your notebook:\n",
    "# from keras_nlp.layers import PositionEmbedding\n",
    "# And uncomment one line of code below"
   ]
  },
  {
   "cell_type": "code",
   "execution_count": 14,
   "id": "3e9ffbca",
   "metadata": {},
   "outputs": [],
   "source": [
    "inputs = Input(shape=(1,), dtype=string)\n",
    "x = vectorization_layer(inputs)\n",
    "x = Embedding(input_dim=max_tokens, output_dim=embedding_dimension,\n",
    "            embeddings_initializer=Constant(embedding_matrix), trainable=False)(x)\n",
    "#x = PositionEmbedding(sequence_length=max_length)(x)\n",
    "residual = x\n",
    "x = MultiHeadAttention(num_heads=2, key_dim=64)(x, x)\n",
    "x = add([x, residual])\n",
    "x = LayerNormalization()(x)\n",
    "residual = x\n",
    "x = Dense(100, activation=\"relu\")(x)\n",
    "x = add([x, residual])\n",
    "x = GlobalAveragePooling1D()(x)\n",
    "x = Dense(64, activation=\"relu\")(x)\n",
    "outputs = Dense(1, activation=\"sigmoid\")(x)\n",
    "transformer = Model(inputs, outputs)\n",
    "\n",
    "transformer.compile(optimizer=RMSprop(learning_rate=0.0001), loss=\"binary_crossentropy\", metrics=[\"acc\"])"
   ]
  },
  {
   "cell_type": "code",
   "execution_count": 15,
   "id": "0e450583",
   "metadata": {},
   "outputs": [
    {
     "data": {
      "text/html": [
       "<pre style=\"white-space:pre;overflow-x:auto;line-height:normal;font-family:Menlo,'DejaVu Sans Mono',consolas,'Courier New',monospace\"><span style=\"font-weight: bold\">Model: \"functional\"</span>\n",
       "</pre>\n"
      ],
      "text/plain": [
       "\u001b[1mModel: \"functional\"\u001b[0m\n"
      ]
     },
     "metadata": {},
     "output_type": "display_data"
    },
    {
     "data": {
      "text/html": [
       "<pre style=\"white-space:pre;overflow-x:auto;line-height:normal;font-family:Menlo,'DejaVu Sans Mono',consolas,'Courier New',monospace\">┏━━━━━━━━━━━━━━━━━━━━━┳━━━━━━━━━━━━━━━━━━━┳━━━━━━━━━━━━┳━━━━━━━━━━━━━━━━━━━┓\n",
       "┃<span style=\"font-weight: bold\"> Layer (type)        </span>┃<span style=\"font-weight: bold\"> Output Shape      </span>┃<span style=\"font-weight: bold\">    Param # </span>┃<span style=\"font-weight: bold\"> Connected to      </span>┃\n",
       "┡━━━━━━━━━━━━━━━━━━━━━╇━━━━━━━━━━━━━━━━━━━╇━━━━━━━━━━━━╇━━━━━━━━━━━━━━━━━━━┩\n",
       "│ input_layer         │ (<span style=\"color: #00d7ff; text-decoration-color: #00d7ff\">None</span>, <span style=\"color: #00af00; text-decoration-color: #00af00\">1</span>)         │          <span style=\"color: #00af00; text-decoration-color: #00af00\">0</span> │ -                 │\n",
       "│ (<span style=\"color: #0087ff; text-decoration-color: #0087ff\">InputLayer</span>)        │                   │            │                   │\n",
       "├─────────────────────┼───────────────────┼────────────┼───────────────────┤\n",
       "│ text_vectorization  │ (<span style=\"color: #00d7ff; text-decoration-color: #00d7ff\">None</span>, <span style=\"color: #00af00; text-decoration-color: #00af00\">200</span>)       │          <span style=\"color: #00af00; text-decoration-color: #00af00\">0</span> │ input_layer[<span style=\"color: #00af00; text-decoration-color: #00af00\">0</span>][<span style=\"color: #00af00; text-decoration-color: #00af00\">0</span>] │\n",
       "│ (<span style=\"color: #0087ff; text-decoration-color: #0087ff\">TextVectorization</span>) │                   │            │                   │\n",
       "├─────────────────────┼───────────────────┼────────────┼───────────────────┤\n",
       "│ embedding           │ (<span style=\"color: #00d7ff; text-decoration-color: #00d7ff\">None</span>, <span style=\"color: #00af00; text-decoration-color: #00af00\">200</span>, <span style=\"color: #00af00; text-decoration-color: #00af00\">100</span>)  │  <span style=\"color: #00af00; text-decoration-color: #00af00\">2,000,000</span> │ text_vectorizati… │\n",
       "│ (<span style=\"color: #0087ff; text-decoration-color: #0087ff\">Embedding</span>)         │                   │            │                   │\n",
       "├─────────────────────┼───────────────────┼────────────┼───────────────────┤\n",
       "│ multi_head_attenti… │ (<span style=\"color: #00d7ff; text-decoration-color: #00d7ff\">None</span>, <span style=\"color: #00af00; text-decoration-color: #00af00\">200</span>, <span style=\"color: #00af00; text-decoration-color: #00af00\">100</span>)  │     <span style=\"color: #00af00; text-decoration-color: #00af00\">51,684</span> │ embedding[<span style=\"color: #00af00; text-decoration-color: #00af00\">0</span>][<span style=\"color: #00af00; text-decoration-color: #00af00\">0</span>],  │\n",
       "│ (<span style=\"color: #0087ff; text-decoration-color: #0087ff\">MultiHeadAttentio…</span> │                   │            │ embedding[<span style=\"color: #00af00; text-decoration-color: #00af00\">0</span>][<span style=\"color: #00af00; text-decoration-color: #00af00\">0</span>]   │\n",
       "├─────────────────────┼───────────────────┼────────────┼───────────────────┤\n",
       "│ add (<span style=\"color: #0087ff; text-decoration-color: #0087ff\">Add</span>)           │ (<span style=\"color: #00d7ff; text-decoration-color: #00d7ff\">None</span>, <span style=\"color: #00af00; text-decoration-color: #00af00\">200</span>, <span style=\"color: #00af00; text-decoration-color: #00af00\">100</span>)  │          <span style=\"color: #00af00; text-decoration-color: #00af00\">0</span> │ multi_head_atten… │\n",
       "│                     │                   │            │ embedding[<span style=\"color: #00af00; text-decoration-color: #00af00\">0</span>][<span style=\"color: #00af00; text-decoration-color: #00af00\">0</span>]   │\n",
       "├─────────────────────┼───────────────────┼────────────┼───────────────────┤\n",
       "│ layer_normalization │ (<span style=\"color: #00d7ff; text-decoration-color: #00d7ff\">None</span>, <span style=\"color: #00af00; text-decoration-color: #00af00\">200</span>, <span style=\"color: #00af00; text-decoration-color: #00af00\">100</span>)  │        <span style=\"color: #00af00; text-decoration-color: #00af00\">200</span> │ add[<span style=\"color: #00af00; text-decoration-color: #00af00\">0</span>][<span style=\"color: #00af00; text-decoration-color: #00af00\">0</span>]         │\n",
       "│ (<span style=\"color: #0087ff; text-decoration-color: #0087ff\">LayerNormalizatio…</span> │                   │            │                   │\n",
       "├─────────────────────┼───────────────────┼────────────┼───────────────────┤\n",
       "│ dense (<span style=\"color: #0087ff; text-decoration-color: #0087ff\">Dense</span>)       │ (<span style=\"color: #00d7ff; text-decoration-color: #00d7ff\">None</span>, <span style=\"color: #00af00; text-decoration-color: #00af00\">200</span>, <span style=\"color: #00af00; text-decoration-color: #00af00\">100</span>)  │     <span style=\"color: #00af00; text-decoration-color: #00af00\">10,100</span> │ layer_normalizat… │\n",
       "├─────────────────────┼───────────────────┼────────────┼───────────────────┤\n",
       "│ add_1 (<span style=\"color: #0087ff; text-decoration-color: #0087ff\">Add</span>)         │ (<span style=\"color: #00d7ff; text-decoration-color: #00d7ff\">None</span>, <span style=\"color: #00af00; text-decoration-color: #00af00\">200</span>, <span style=\"color: #00af00; text-decoration-color: #00af00\">100</span>)  │          <span style=\"color: #00af00; text-decoration-color: #00af00\">0</span> │ dense[<span style=\"color: #00af00; text-decoration-color: #00af00\">0</span>][<span style=\"color: #00af00; text-decoration-color: #00af00\">0</span>],      │\n",
       "│                     │                   │            │ layer_normalizat… │\n",
       "├─────────────────────┼───────────────────┼────────────┼───────────────────┤\n",
       "│ global_average_poo… │ (<span style=\"color: #00d7ff; text-decoration-color: #00d7ff\">None</span>, <span style=\"color: #00af00; text-decoration-color: #00af00\">100</span>)       │          <span style=\"color: #00af00; text-decoration-color: #00af00\">0</span> │ add_1[<span style=\"color: #00af00; text-decoration-color: #00af00\">0</span>][<span style=\"color: #00af00; text-decoration-color: #00af00\">0</span>]       │\n",
       "│ (<span style=\"color: #0087ff; text-decoration-color: #0087ff\">GlobalAveragePool…</span> │                   │            │                   │\n",
       "├─────────────────────┼───────────────────┼────────────┼───────────────────┤\n",
       "│ dense_1 (<span style=\"color: #0087ff; text-decoration-color: #0087ff\">Dense</span>)     │ (<span style=\"color: #00d7ff; text-decoration-color: #00d7ff\">None</span>, <span style=\"color: #00af00; text-decoration-color: #00af00\">64</span>)        │      <span style=\"color: #00af00; text-decoration-color: #00af00\">6,464</span> │ global_average_p… │\n",
       "├─────────────────────┼───────────────────┼────────────┼───────────────────┤\n",
       "│ dense_2 (<span style=\"color: #0087ff; text-decoration-color: #0087ff\">Dense</span>)     │ (<span style=\"color: #00d7ff; text-decoration-color: #00d7ff\">None</span>, <span style=\"color: #00af00; text-decoration-color: #00af00\">1</span>)         │         <span style=\"color: #00af00; text-decoration-color: #00af00\">65</span> │ dense_1[<span style=\"color: #00af00; text-decoration-color: #00af00\">0</span>][<span style=\"color: #00af00; text-decoration-color: #00af00\">0</span>]     │\n",
       "└─────────────────────┴───────────────────┴────────────┴───────────────────┘\n",
       "</pre>\n"
      ],
      "text/plain": [
       "┏━━━━━━━━━━━━━━━━━━━━━┳━━━━━━━━━━━━━━━━━━━┳━━━━━━━━━━━━┳━━━━━━━━━━━━━━━━━━━┓\n",
       "┃\u001b[1m \u001b[0m\u001b[1mLayer (type)       \u001b[0m\u001b[1m \u001b[0m┃\u001b[1m \u001b[0m\u001b[1mOutput Shape     \u001b[0m\u001b[1m \u001b[0m┃\u001b[1m \u001b[0m\u001b[1m   Param #\u001b[0m\u001b[1m \u001b[0m┃\u001b[1m \u001b[0m\u001b[1mConnected to     \u001b[0m\u001b[1m \u001b[0m┃\n",
       "┡━━━━━━━━━━━━━━━━━━━━━╇━━━━━━━━━━━━━━━━━━━╇━━━━━━━━━━━━╇━━━━━━━━━━━━━━━━━━━┩\n",
       "│ input_layer         │ (\u001b[38;5;45mNone\u001b[0m, \u001b[38;5;34m1\u001b[0m)         │          \u001b[38;5;34m0\u001b[0m │ -                 │\n",
       "│ (\u001b[38;5;33mInputLayer\u001b[0m)        │                   │            │                   │\n",
       "├─────────────────────┼───────────────────┼────────────┼───────────────────┤\n",
       "│ text_vectorization  │ (\u001b[38;5;45mNone\u001b[0m, \u001b[38;5;34m200\u001b[0m)       │          \u001b[38;5;34m0\u001b[0m │ input_layer[\u001b[38;5;34m0\u001b[0m][\u001b[38;5;34m0\u001b[0m] │\n",
       "│ (\u001b[38;5;33mTextVectorization\u001b[0m) │                   │            │                   │\n",
       "├─────────────────────┼───────────────────┼────────────┼───────────────────┤\n",
       "│ embedding           │ (\u001b[38;5;45mNone\u001b[0m, \u001b[38;5;34m200\u001b[0m, \u001b[38;5;34m100\u001b[0m)  │  \u001b[38;5;34m2,000,000\u001b[0m │ text_vectorizati… │\n",
       "│ (\u001b[38;5;33mEmbedding\u001b[0m)         │                   │            │                   │\n",
       "├─────────────────────┼───────────────────┼────────────┼───────────────────┤\n",
       "│ multi_head_attenti… │ (\u001b[38;5;45mNone\u001b[0m, \u001b[38;5;34m200\u001b[0m, \u001b[38;5;34m100\u001b[0m)  │     \u001b[38;5;34m51,684\u001b[0m │ embedding[\u001b[38;5;34m0\u001b[0m][\u001b[38;5;34m0\u001b[0m],  │\n",
       "│ (\u001b[38;5;33mMultiHeadAttentio…\u001b[0m │                   │            │ embedding[\u001b[38;5;34m0\u001b[0m][\u001b[38;5;34m0\u001b[0m]   │\n",
       "├─────────────────────┼───────────────────┼────────────┼───────────────────┤\n",
       "│ add (\u001b[38;5;33mAdd\u001b[0m)           │ (\u001b[38;5;45mNone\u001b[0m, \u001b[38;5;34m200\u001b[0m, \u001b[38;5;34m100\u001b[0m)  │          \u001b[38;5;34m0\u001b[0m │ multi_head_atten… │\n",
       "│                     │                   │            │ embedding[\u001b[38;5;34m0\u001b[0m][\u001b[38;5;34m0\u001b[0m]   │\n",
       "├─────────────────────┼───────────────────┼────────────┼───────────────────┤\n",
       "│ layer_normalization │ (\u001b[38;5;45mNone\u001b[0m, \u001b[38;5;34m200\u001b[0m, \u001b[38;5;34m100\u001b[0m)  │        \u001b[38;5;34m200\u001b[0m │ add[\u001b[38;5;34m0\u001b[0m][\u001b[38;5;34m0\u001b[0m]         │\n",
       "│ (\u001b[38;5;33mLayerNormalizatio…\u001b[0m │                   │            │                   │\n",
       "├─────────────────────┼───────────────────┼────────────┼───────────────────┤\n",
       "│ dense (\u001b[38;5;33mDense\u001b[0m)       │ (\u001b[38;5;45mNone\u001b[0m, \u001b[38;5;34m200\u001b[0m, \u001b[38;5;34m100\u001b[0m)  │     \u001b[38;5;34m10,100\u001b[0m │ layer_normalizat… │\n",
       "├─────────────────────┼───────────────────┼────────────┼───────────────────┤\n",
       "│ add_1 (\u001b[38;5;33mAdd\u001b[0m)         │ (\u001b[38;5;45mNone\u001b[0m, \u001b[38;5;34m200\u001b[0m, \u001b[38;5;34m100\u001b[0m)  │          \u001b[38;5;34m0\u001b[0m │ dense[\u001b[38;5;34m0\u001b[0m][\u001b[38;5;34m0\u001b[0m],      │\n",
       "│                     │                   │            │ layer_normalizat… │\n",
       "├─────────────────────┼───────────────────┼────────────┼───────────────────┤\n",
       "│ global_average_poo… │ (\u001b[38;5;45mNone\u001b[0m, \u001b[38;5;34m100\u001b[0m)       │          \u001b[38;5;34m0\u001b[0m │ add_1[\u001b[38;5;34m0\u001b[0m][\u001b[38;5;34m0\u001b[0m]       │\n",
       "│ (\u001b[38;5;33mGlobalAveragePool…\u001b[0m │                   │            │                   │\n",
       "├─────────────────────┼───────────────────┼────────────┼───────────────────┤\n",
       "│ dense_1 (\u001b[38;5;33mDense\u001b[0m)     │ (\u001b[38;5;45mNone\u001b[0m, \u001b[38;5;34m64\u001b[0m)        │      \u001b[38;5;34m6,464\u001b[0m │ global_average_p… │\n",
       "├─────────────────────┼───────────────────┼────────────┼───────────────────┤\n",
       "│ dense_2 (\u001b[38;5;33mDense\u001b[0m)     │ (\u001b[38;5;45mNone\u001b[0m, \u001b[38;5;34m1\u001b[0m)         │         \u001b[38;5;34m65\u001b[0m │ dense_1[\u001b[38;5;34m0\u001b[0m][\u001b[38;5;34m0\u001b[0m]     │\n",
       "└─────────────────────┴───────────────────┴────────────┴───────────────────┘\n"
      ]
     },
     "metadata": {},
     "output_type": "display_data"
    },
    {
     "data": {
      "text/html": [
       "<pre style=\"white-space:pre;overflow-x:auto;line-height:normal;font-family:Menlo,'DejaVu Sans Mono',consolas,'Courier New',monospace\"><span style=\"font-weight: bold\"> Total params: </span><span style=\"color: #00af00; text-decoration-color: #00af00\">2,068,513</span> (7.89 MB)\n",
       "</pre>\n"
      ],
      "text/plain": [
       "\u001b[1m Total params: \u001b[0m\u001b[38;5;34m2,068,513\u001b[0m (7.89 MB)\n"
      ]
     },
     "metadata": {},
     "output_type": "display_data"
    },
    {
     "data": {
      "text/html": [
       "<pre style=\"white-space:pre;overflow-x:auto;line-height:normal;font-family:Menlo,'DejaVu Sans Mono',consolas,'Courier New',monospace\"><span style=\"font-weight: bold\"> Trainable params: </span><span style=\"color: #00af00; text-decoration-color: #00af00\">68,513</span> (267.63 KB)\n",
       "</pre>\n"
      ],
      "text/plain": [
       "\u001b[1m Trainable params: \u001b[0m\u001b[38;5;34m68,513\u001b[0m (267.63 KB)\n"
      ]
     },
     "metadata": {},
     "output_type": "display_data"
    },
    {
     "data": {
      "text/html": [
       "<pre style=\"white-space:pre;overflow-x:auto;line-height:normal;font-family:Menlo,'DejaVu Sans Mono',consolas,'Courier New',monospace\"><span style=\"font-weight: bold\"> Non-trainable params: </span><span style=\"color: #00af00; text-decoration-color: #00af00\">2,000,000</span> (7.63 MB)\n",
       "</pre>\n"
      ],
      "text/plain": [
       "\u001b[1m Non-trainable params: \u001b[0m\u001b[38;5;34m2,000,000\u001b[0m (7.63 MB)\n"
      ]
     },
     "metadata": {},
     "output_type": "display_data"
    }
   ],
   "source": [
    "transformer.summary()"
   ]
  },
  {
   "cell_type": "code",
   "execution_count": 16,
   "id": "15c48604",
   "metadata": {},
   "outputs": [],
   "source": [
    "transformer_history = transformer.fit(dev_X, dev_y, epochs=10, batch_size=32, validation_split=0.25, \n",
    "                          callbacks=[EarlyStopping(monitor=\"val_loss\", patience=2)], verbose=0)"
   ]
  },
  {
   "cell_type": "code",
   "execution_count": 17,
   "id": "1bed79b7",
   "metadata": {},
   "outputs": [
    {
     "data": {
      "text/plain": [
       "<Axes: >"
      ]
     },
     "execution_count": 17,
     "metadata": {},
     "output_type": "execute_result"
    },
    {
     "data": {
      "image/png": "[encoded data removed]",
      "text/plain": [
       "<Figure size 640x480 with 1 Axes>"
      ]
     },
     "metadata": {},
     "output_type": "display_data"
    }
   ],
   "source": [
    "pd.DataFrame(transformer_history.history).plot()"
   ]
  },
  {
   "cell_type": "code",
   "execution_count": null,
   "id": "26c79597",
   "metadata": {},
   "outputs": [],
   "source": []
  }
 ],
 "metadata": {
  "kernelspec": {
   "display_name": "Python 3 (ipykernel)",
   "language": "python",
   "name": "python3"
  },
  "language_info": {
   "codemirror_mode": {
    "name": "ipython",
    "version": 3
   },
   "file_extension": ".py",
   "mimetype": "text/x-python",
   "name": "python",
   "nbconvert_exporter": "python",
   "pygments_lexer": "ipython3",
   "version": "3.12.4"
  }
 },
 "nbformat": 4,
 "nbformat_minor": 5
}
