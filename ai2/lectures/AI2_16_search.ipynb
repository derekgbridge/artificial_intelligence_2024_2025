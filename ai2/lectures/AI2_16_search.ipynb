{
 "cells": [
  {
   "cell_type": "markdown",
   "metadata": {
    "slideshow": {
     "slide_type": "slide"
    }
   },
   "source": [
    "<h1>CS4619: Artificial Intelligence II</h1>\n",
    "<h1>Searching State Spaces</h1>\n",
    "<h2>\n",
    "    Derek Bridge<br>\n",
    "    School of Computer Science and Information Technology<br>\n",
    "    University College Cork\n",
    "</h2>"
   ]
  },
  {
   "cell_type": "markdown",
   "metadata": {
    "slideshow": {
     "slide_type": "skip"
    }
   },
   "source": [
    "<h1>Initialization</h1>\n",
    "$\\newcommand{\\Set}[1]{\\{#1\\}}$ \n",
    "$\\newcommand{\\Tuple}[1]{\\langle#1\\rangle}$ \n",
    "$\\newcommand{\\v}[1]{\\pmb{#1}}$ \n",
    "$\\newcommand{\\cv}[1]{\\begin{bmatrix}#1\\end{bmatrix}}$ \n",
    "$\\newcommand{\\rv}[1]{[#1]}$ \n",
    "$\\DeclareMathOperator{\\argmax}{arg\\,max}$ \n",
    "$\\DeclareMathOperator{\\argmin}{arg\\,min}$ \n",
    "$\\DeclareMathOperator{\\dist}{dist}$\n",
    "$\\DeclareMathOperator{\\abs}{abs}$"
   ]
  },
  {
   "cell_type": "code",
   "execution_count": 1,
   "metadata": {
    "slideshow": {
     "slide_type": "skip"
    }
   },
   "outputs": [],
   "source": [
    "%reload_ext autoreload\n",
    "%autoreload 2\n",
    "%matplotlib inline"
   ]
  },
  {
   "cell_type": "code",
   "execution_count": 2,
   "metadata": {
    "slideshow": {
     "slide_type": "skip"
    }
   },
   "outputs": [],
   "source": [
    "import pandas as pd\n",
    "import numpy as np\n",
    "import matplotlib.pyplot as plt"
   ]
  },
  {
   "cell_type": "markdown",
   "metadata": {},
   "source": [
    "<h1>State space search</h1>\n",
    "<ul>\n",
    "    <li>We discussed the difference between explicit and implicit state spaces.</li>\n",
    "    <li>But the same algorithm can be used for both provided we assume we are given:\n",
    "        <ul>\n",
    "            <li>start state;</li>\n",
    "            <li>goal condition; and</li>\n",
    "            <li>a function <var>SUCCESSORS(s)</var> which, given state <var>s</var>, returns all states we\n",
    "                can reach in a single action from <var>s</var>.\n",
    "            </li>\n",
    "        </ul>\n",
    "    </li>\n",
    "</ul>"
   ]
  },
  {
   "cell_type": "markdown",
   "metadata": {
    "slideshow": {
     "slide_type": "slide"
    }
   },
   "source": [
    "<h1>State space search (informally)</h1>\n",
    "<ul>\n",
    "    <li>If the current state is not a goal state,\n",
    "        <ul>\n",
    "            <li><b>Expand</b> the current state, i.e. generate its <b>successors</b></li>\n",
    "            <li>One successor becomes the new current state\n",
    "            <li>Others must be kept in case we want to come back to them\n",
    "                <ul>\n",
    "                    <li>Keep them on an <b>agenda</b>, i.e. a list of unexplored options</li>\n",
    "                </ul>\n",
    "            </li>\n",
    "        </ul>\n",
    "    </li>\n",
    "    <li><b>Search strategy</b> determines which state to expand next.</li>\n",
    "</ul>"
   ]
  },
  {
   "cell_type": "markdown",
   "metadata": {
    "slideshow": {
     "slide_type": "slide"
    }
   },
   "source": [
    "<h1>A general state space search algorithm</h1>\n",
    "<figure style=\"border: 1px solid black; background-color: #D0D0D0\">\n",
    "    <figcaption style=\"border-bottom: 1px solid black\">\n",
    "        StateSpaceSearch()\n",
    "    </figcaption>\n",
    "    <ul>\n",
    "        <li>insert start state onto $\\mathit{agenda}$;</li>\n",
    "        <li>while $\\mathit{agenda}$ is not empty\n",
    "            <ul>\n",
    "                <li>$\\mathit{currentState} =$ remove from <span style=\"color: red\">front</span> of $\\mathit{agenda}$;</li>\n",
    "                <li>if $\\mathit{currentState}$ satisfies goal condition\n",
    "                    <ul>\n",
    "                        <li>return the path of actions that led to $\\mathit{currentState}$;</li>\n",
    "                    </ul>\n",
    "                    else\n",
    "                    <ul>\n",
    "                        <li>$\\mathit{successors} =$ $\\mathit{SUCCESSORS(currentState)}$;</li>\n",
    "                        <li><span style=\"color: blue\">insert</span> $\\mathit{successors}$ onto $\\mathit{agenda}$;</li>\n",
    "                    </ul>\n",
    "                </li>\n",
    "            </ul>\n",
    "        </li>\n",
    "        <li>return fail;</li>\n",
    "    </ul>\n",
    "</figure>"
   ]
  },
  {
   "cell_type": "markdown",
   "metadata": {
    "slideshow": {
     "slide_type": "slide"
    }
   },
   "source": [
    "<h1>Search tree</h1>\n",
    "<ul>\n",
    "    <li>The parts of the state space that the search algorithm actually visits are made explicit in a <b>search tree</b>.</li>\n",
    "    <li>State space and search tree are different:\n",
    "        <ul>\n",
    "            <li>some search strategies may leave parts of the state space unexplored; and</li>\n",
    "            <li>some search strategies may re-explore parts of the state space.</li>\n",
    "        </ul>\n",
    "    </li>\n",
    "    <li>These ideas will be made clearer in the lecture using these three example state spaces:<br />\n",
    "        <img src=\"images/3ss.png\" />\n",
    "    </li>\n",
    "</ul>"
   ]
  },
  {
   "cell_type": "markdown",
   "metadata": {
    "slideshow": {
     "slide_type": "slide"
    }
   },
   "source": [
    "<h1>Avoiding re-exploration</h1>\n",
    "<ul>\n",
    "    <li>Three options, varying in cost and effectiveness:\n",
    "        <ul>\n",
    "            <li>discard any successor that is the same as the current node’s parent; or</li>\n",
    "            <li>discard any successor that is the same as another node on the path; or</li>\n",
    "            <li>discard any successor if it is the same as any previously-generated node.</li>\n",
    "        </ul>\n",
    "    </li>\n",
    "    <li>Class exercise: How effective at avoiding re-exploration are these three options? \n",
    "        What do they cost in time &amp; space?\n",
    "    </li>\n",
    "</ul>"
   ]
  },
  {
   "cell_type": "markdown",
   "metadata": {
    "slideshow": {
     "slide_type": "slide"
    }
   },
   "source": [
    "<h1>Search strategy</h1>\n",
    "<ul>\n",
    "    <li><b>Search strategy</b> decides which state to expand next.</li>\n",
    "    <li><b>Uninformed</b> search strategies:\n",
    "        <ul>\n",
    "            <li>No problem-specific heuristic knowledge is used in the decision.</li>\n",
    "            <li>E.g. breadth-first; depth-first; least-cost.</li>\n",
    "        </ul>\n",
    "    </li>\n",
    "    <li><b>Informed</b> search strategies:\n",
    "        <ul>\n",
    "            <li>Problem-specific heuristic knowledge is used.</li>\n",
    "            <li>E.g. greedy; $A^*$</li>\n",
    "        </ul>\n",
    "    </li>\n",
    "    <li>Search strategy is determined by where nodes are added to the agenda.</li>\n",
    "</ul>"
   ]
  },
  {
   "cell_type": "markdown",
   "metadata": {
    "slideshow": {
     "slide_type": "slide"
    }
   },
   "source": [
    "<h1>Breadth-first search</h1>\n",
    "<ul>\n",
    "    <li>Treat the agenda as a <b>queue</b>:\n",
    "        <ul>\n",
    "            <li>nodes are removed from the front (as always).</li>\n",
    "            <li>successors are added to the <em>back</em>.</li>\n",
    "        </ul>\n",
    "    </li>\n",
    "    <li>Hence, all nodes at depth $i$ in the search tree will be expanded before any at $i+1$.</li>\n",
    "    <li>We will illustrate in the lecture using this state space<br />\n",
    "        <img src=\"images/ss.png\" />\n",
    "    </li>\n",
    "</ul>"
   ]
  },
  {
   "cell_type": "markdown",
   "metadata": {
    "slideshow": {
     "slide_type": "slide"
    }
   },
   "source": [
    "<h1>Depth-first search</h1>\n",
    "<ul>\n",
    "    <li>Treat the agenda as a <b>stack</b>:\n",
    "        <ul>\n",
    "            <li>nodes are removed from the front (as always).</li>\n",
    "            <li>successors are added to the <em>front</em>.</li>\n",
    "        </ul>\n",
    "    </li>\n",
    "    <li>Hence, it always choses to expand one of the nodes that is at the deepest level of \n",
    "        the search tree (it only expands nodes at a shallower level if the search has hit \n",
    "        a dead-end at the deepest level).\n",
    "    </li>\n",
    "</ul>"
   ]
  },
  {
   "cell_type": "markdown",
   "metadata": {
    "slideshow": {
     "slide_type": "slide"
    }
   },
   "source": [
    "<h1>Evaluating a search strategy</h1>\n",
    "<ul>\n",
    "    <li><b>Completeness</b>:\n",
    "        <ul>\n",
    "            <li>A search strategy is complete if it guarantees to find a solution (path to goal) when there is one.</li>\n",
    "        </ul>\n",
    "    </li>\n",
    "    <li>Class exercise:\n",
    "        <ul>\n",
    "            <li>Is breadth-first complete?</li>\n",
    "            <li>Is depth-first complete?</li>\n",
    "        </ul>\n",
    "    </li>\n",
    "</ul>"
   ]
  },
  {
   "cell_type": "markdown",
   "metadata": {
    "slideshow": {
     "slide_type": "slide"
    }
   },
   "source": [
    "<h1>Evaluating a search strategy</h1>\n",
    "<ul>\n",
    "    <li><b>Optimality</b>:\n",
    "        <ul>\n",
    "            <li>A search strategy is optimal if it guarantees to find the highest-quality solution \n",
    "               (least-cost path to goal) when there is a solution,\n",
    "                <ul>\n",
    "                    <li>i.e. the first solution it finds is the one with lowest-cost.</li>\n",
    "                </ul>\n",
    "            </li>\n",
    "        </ul>\n",
    "    </li>\n",
    "    <li>Class exercise:\n",
    "        <ul>\n",
    "            <li>Is breadth-first optimal?</li>\n",
    "            <li>Is depth-first optimal?</li>\n",
    "        </ul>\n",
    "    </li>\n",
    "</ul>"
   ]
  },
  {
   "cell_type": "markdown",
   "metadata": {
    "slideshow": {
     "slide_type": "slide"
    }
   },
   "source": [
    "<h1>Evaluating a search strategy</h1>\n",
    "<ul>\n",
    "    <li>Time-complexity:\n",
    "        <ul>\n",
    "            <li>How long does it take to find a solution, in terms of size of state space?</li>\n",
    "            <li>Worst-case (also best-case and average-case).</li>\n",
    "        </ul>\n",
    "    </li>\n",
    "    <li>Space-complexity:\n",
    "        <ul>\n",
    "            <li>How much memory is needed, in terms of size of state space?</li>\n",
    "            <li>Worst-case (also best-case and average-case)</li>\n",
    "        </ul>\n",
    "    </li>\n",
    "    <li>Class exercise: For both breadth-first and depth-first search, work out the time- and space-complexity.</li>\n",
    "</ul>"
   ]
  },
  {
   "cell_type": "code",
   "execution_count": null,
   "metadata": {
    "collapsed": true
   },
   "outputs": [],
   "source": []
  }
 ],
 "metadata": {
  "celltoolbar": "Slideshow",
  "kernelspec": {
   "display_name": "Python 3 (ipykernel)",
   "language": "python",
   "name": "python3"
  },
  "language_info": {
   "codemirror_mode": {
    "name": "ipython",
    "version": 3
   },
   "file_extension": ".py",
   "mimetype": "text/x-python",
   "name": "python",
   "nbconvert_exporter": "python",
   "pygments_lexer": "ipython3",
   "version": "3.11.4"
  }
 },
 "nbformat": 4,
 "nbformat_minor": 1
}
