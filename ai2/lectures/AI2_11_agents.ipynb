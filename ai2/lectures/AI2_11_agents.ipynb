{
 "cells": [
  {
   "cell_type": "markdown",
   "metadata": {
    "slideshow": {
     "slide_type": "slide"
    }
   },
   "source": [
    "<h1>CS4619: Artificial Intelligence II</h1>\n",
    "<h1>Agents</h1>\n",
    "<h2>\n",
    "    Derek Bridge<br>\n",
    "    School of Computer Science and Information Technology<br>\n",
    "    University College Cork\n",
    "</h2>"
   ]
  },
  {
   "cell_type": "markdown",
   "metadata": {
    "slideshow": {
     "slide_type": "skip"
    }
   },
   "source": [
    "<h1>Initialization</h1>\n",
    "$\\newcommand{\\Set}[1]{\\{#1\\}}$ \n",
    "$\\newcommand{\\Tuple}[1]{\\langle#1\\rangle}$ \n",
    "$\\newcommand{\\v}[1]{\\pmb{#1}}$ \n",
    "$\\newcommand{\\cv}[1]{\\begin{bmatrix}#1\\end{bmatrix}}$ \n",
    "$\\newcommand{\\rv}[1]{[#1]}$ \n",
    "$\\DeclareMathOperator{\\argmax}{arg\\,max}$ \n",
    "$\\DeclareMathOperator{\\argmin}{arg\\,min}$ \n",
    "$\\DeclareMathOperator{\\dist}{dist}$\n",
    "$\\DeclareMathOperator{\\abs}{abs}$"
   ]
  },
  {
   "cell_type": "code",
   "execution_count": 1,
   "metadata": {
    "slideshow": {
     "slide_type": "skip"
    }
   },
   "outputs": [],
   "source": [
    "%reload_ext autoreload\n",
    "%autoreload 2\n",
    "%matplotlib inline"
   ]
  },
  {
   "cell_type": "code",
   "execution_count": 2,
   "metadata": {
    "slideshow": {
     "slide_type": "skip"
    }
   },
   "outputs": [],
   "source": [
    "import pandas as pd\n",
    "import numpy as np\n",
    "import matplotlib.pyplot as plt"
   ]
  },
  {
   "cell_type": "markdown",
   "metadata": {
    "slideshow": {
     "slide_type": "slide"
    }
   },
   "source": [
    "<h1>Agents</h1>\n",
    "<ul>\n",
    "    <li>An <b>agent</b> is anything that can be viewed as <b>perceiving</b> its environment through <b>sensors</b>\n",
    "        and <b>acting</b> upon that environment through <b>effectors</b>.\n",
    "    </li>\n",
    "</ul>\n",
    "<figure>\n",
    "    <img src=\"images/agent.png\" />\n",
    "</figure>"
   ]
  },
  {
   "cell_type": "markdown",
   "metadata": {
    "slideshow": {
     "slide_type": "slide"
    }
   },
   "source": [
    "<h1>Robots</h1>\n",
    "<ul>\n",
    "    <li>Robots are <b>embodied</b> agents, situated in <b>physical</b> environments.</li>\n",
    "</ul>\n",
    "<div style=\"display: flex\">\n",
    "    <img src=\"images/roomba.jpg\" />\n",
    "    <img src=\"images/amazon.jpg\" />\n",
    "    <img src=\"images/robocup.jpg\" />\n",
    "    <img src=\"images/car.jpg\" />\n",
    "    <img src=\"images/rover.jpg\" />\n",
    "</div>"
   ]
  },
  {
   "cell_type": "markdown",
   "metadata": {
    "slideshow": {
     "slide_type": "slide"
    }
   },
   "source": [
    "<h1>Software agents</h1>\n",
    "<ul>\n",
    "    <li>Software agents (sometimes called softbots) are situated in <b>virtual</b> environments.</li>\n",
    "</ul>\n",
    "<div style=\"display: flex\">\n",
    "    <img src=\"images/gameai.jpg\" />\n",
    "    <img src=\"images/spam.jpg\" />\n",
    "    <img src=\"images/adsense.png\" />\n",
    "    <img src=\"images/facebook.jpg\" />\n",
    "</div>"
   ]
  },
  {
   "cell_type": "markdown",
   "metadata": {
    "slideshow": {
     "slide_type": "slide"
    }
   },
   "source": [
    "<h1>Sense, Plan, Act</h1>\n",
    "<ul>\n",
    "    <li>Sense\n",
    "        <ul>\n",
    "            <li>Use sensors to find things out about the environment</li>\n",
    "        </ul>\n",
    "    </li>\n",
    "    <li>Plan\n",
    "        <ul>\n",
    "            <li>Decide on the next action(s)</li>\n",
    "        </ul>\n",
    "    </li>\n",
    "    <li>Act\n",
    "        <ul>\n",
    "            <li>Use effector(s) to carry out the chosen action(s)</li>\n",
    "        </ul>\n",
    "    </li>\n",
    "</ul>"
   ]
  },
  {
   "cell_type": "markdown",
   "metadata": {
    "slideshow": {
     "slide_type": "slide"
    }
   },
   "source": [
    "<h1>Agent function</h1>\n",
    "<ul>\n",
    "    <li>In some ways, the AI1 and AI2 modules have spent a vast amount of time on the <b>Sense</b> phase of the cycle.</li>\n",
    "    <li>The task of the <b>Plan</b> phase is to implement an <b>agent function</b> that maps \n",
    "        <ul>\n",
    "            <li>from <b>percept sequences</b></li>\n",
    "            <li>to the <b>actions</b> the agents can perform.</li>\n",
    "        </ul>\n",
    "    </li>\n",
    "    <li>In intelligent agents, this function exhibits high degrees of\n",
    "        <ul>\n",
    "            <li><b>autonomy</b> and</li>\n",
    "            <li><b>rationality</b>.</li>\n",
    "        </ul>\n",
    "    </li>\n",
    "</ul>"
   ]
  },
  {
   "cell_type": "markdown",
   "metadata": {
    "slideshow": {
     "slide_type": "slide"
    }
   },
   "source": [
    "<h1>Environments</h1>\n",
    "<ul>\n",
    "    <li>Fully observable vs. partially observable</li>\n",
    "    <li>Deterministic vs. stochastic</li>\n",
    "    <li>Single-step vs. sequential</li>\n",
    "    <li>Static vs. dynamic</li>\n",
    "    <li>Discrete vs. continuous</li>\n",
    "    <li>Single-agent vs. multi-agent</li>\n",
    "</ul>\n",
    "<uL>\n",
    "    <li>Exercise: classify the environments of a chess program, a spam filter, a robot vacuum cleaner, and an autonomous \n",
    "        car\n",
    "    </li>\n",
    "</ul>"
   ]
  },
  {
   "cell_type": "markdown",
   "metadata": {
    "slideshow": {
     "slide_type": "slide"
    }
   },
   "source": [
    "<h1>Agents</h1>\n",
    "<ul>\n",
    "    <li>Reactive agents</li>\n",
    "    <li>Deliberative agents</li>\n",
    "</ul>"
   ]
  },
  {
   "cell_type": "markdown",
   "metadata": {
    "slideshow": {
     "slide_type": "slide"
    }
   },
   "source": [
    "<h1>Table-Driven Agents</h1>\n",
    "<ul>\n",
    "    <li>At each point in time:\n",
    "        <ul>\n",
    "            <li>$\\v{s} = \\mathit{SENSE()};$</li>\n",
    "            <li>$a = \\mathit{LOOKUP}(\\v{s}, \\mathit{table});$</li>\n",
    "            <li>$\\mathit{EXECUTE}(a);$</li>\n",
    "        </ul>\n",
    "    </li>\n",
    "</ul>"
   ]
  },
  {
   "cell_type": "markdown",
   "metadata": {
    "slideshow": {
     "slide_type": "slide"
    }
   },
   "source": [
    "<h1>Class exercise: Table-Driven Wall-Following Agent</h1>\n",
    "<ol>\n",
    "    <li>Suppose the agent has 8 touch sensors, each returning 0 or 1\n",
    "        <table style=\"border-width: 0\">\n",
    "            <tr style=\"border-width: 0\">\n",
    "                <td style=\"border-width: 0\"><img src=\"images/wf_agent.png\" /></td>\n",
    "                <td style=\"border-width: 0\">Sensors return 11000001</td>\n",
    "           </tr>\n",
    "        </table>\n",
    "        How many table entries will there be?\n",
    "    </li>\n",
    "</ol>"
   ]
  },
  {
   "cell_type": "markdown",
   "metadata": {
    "slideshow": {
     "slide_type": "slide"
    }
   },
   "source": [
    "<h1>Class exercise</h1>\n",
    "<ol start=\"2\">\n",
    "    <li>In fact, only three sensors are needed:\n",
    "        <figure>\n",
    "            <img src=\"images/three_sensors.png\" />\n",
    "        </figure>\n",
    "        How many table entries will there be?\n",
    "    </li>\n",
    "</ol>"
   ]
  },
  {
   "cell_type": "markdown",
   "metadata": {
    "slideshow": {
     "slide_type": "slide"
    }
   },
   "source": [
    "<h1>Class exercise</h1>\n",
    "<ol start=\"3\">\n",
    "    <li>The actions are:\n",
    "        <ul>\n",
    "            <li>MOVE:\n",
    "                <ul>\n",
    "                    <li>this moves the agent one cell forward</li>\n",
    "                </ul>\n",
    "            </li>\n",
    "            <li>TURN(d, n) where d = LEFT or d = RIGHT and n = 0, 1, 2, etc.:\n",
    "                <ul>\n",
    "                    <li>this turns the agent to the left or right, $n$ lots of 45&deg;</li>\n",
    "                </ul>\n",
    "            </li>\n",
    "        </ul>\n",
    "        Fill in the table so that the agent walks the walls anticlockwise\n",
    "        <table>\n",
    "            <tr><th style=\"border: 1px solid black;\">Percept</th><th style=\"border: 1px solid black;\">Action</th></tr>\n",
    "            <tr><td style=\"border: 1px solid black;\">000</td><td style=\"border: 1px solid black;\"></td></tr>\n",
    "            <tr><td style=\"border: 1px solid black;\">001</td><td style=\"border: 1px solid black;\"></td></tr>\n",
    "            <tr><td style=\"border: 1px solid black;\">010</td><td style=\"border: 1px solid black;\"></td></tr>\n",
    "            <tr><td style=\"border: 1px solid black;\">011</td><td style=\"border: 1px solid black;\"></td></tr>\n",
    "            <tr><td style=\"border: 1px solid black;\">100</td><td style=\"border: 1px solid black;\"></td></tr>\n",
    "            <tr><td style=\"border: 1px solid black;\">101</td><td style=\"border: 1px solid black;\"></td></tr>\n",
    "            <tr><td style=\"border: 1px solid black;\">110</td><td style=\"border: 1px solid black;\"></td></tr>\n",
    "            <tr><td style=\"border: 1px solid black;\">111</td><td style=\"border: 1px solid black;\"></td></tr>\n",
    "        </table>\n",
    "    </li>\n",
    "</ol>"
   ]
  },
  {
   "cell_type": "markdown",
   "metadata": {
    "slideshow": {
     "slide_type": "slide"
    }
   },
   "source": [
    "<h1>Discussion</h1>\n",
    "<ul>\n",
    "    <li>Is this agent autonomous?</li>\n",
    "    <li>When is the table-driven approach a <em>possible</em> approach?</li>\n",
    "    <li>When is it a <em>practicable</em> approach?</li>\n",
    "</ul>"
   ]
  }
 ],
 "metadata": {
  "celltoolbar": "Slideshow",
  "kernelspec": {
   "display_name": "Python 3 (ipykernel)",
   "language": "python",
   "name": "python3"
  },
  "language_info": {
   "codemirror_mode": {
    "name": "ipython",
    "version": 3
   },
   "file_extension": ".py",
   "mimetype": "text/x-python",
   "name": "python",
   "nbconvert_exporter": "python",
   "pygments_lexer": "ipython3",
   "version": "3.11.4"
  }
 },
 "nbformat": 4,
 "nbformat_minor": 4
}
